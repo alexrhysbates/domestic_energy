{
 "cells": [
  {
   "cell_type": "markdown",
   "id": "cbbdb99a-f7f8-4b0e-83aa-c67ad5edfab4",
   "metadata": {},
   "source": [
    "# Experimenting with possible approaches"
   ]
  },
  {
   "cell_type": "code",
   "execution_count": 1,
   "id": "1ffe27c8-e1a6-4ad6-99fe-bb0fec41edeb",
   "metadata": {
    "collapsed": true,
    "jupyter": {
     "outputs_hidden": true
    },
    "tags": []
   },
   "outputs": [
    {
     "name": "stdout",
     "output_type": "stream",
     "text": [
      "Requirement already satisfied: numpy in /home/ubuntu/miniconda/envs/py311/lib/python3.11/site-packages (from -r ../requirements.txt (line 1)) (2.0.0)\n",
      "Requirement already satisfied: pandas in /home/ubuntu/miniconda/envs/py311/lib/python3.11/site-packages (from -r ../requirements.txt (line 2)) (2.2.2)\n",
      "Collecting pymc (from -r ../requirements.txt (line 3))\n",
      "  Downloading pymc-5.16.2-py3-none-any.whl.metadata (15 kB)\n",
      "Requirement already satisfied: python-dateutil>=2.8.2 in /home/ubuntu/miniconda/envs/py311/lib/python3.11/site-packages (from pandas->-r ../requirements.txt (line 2)) (2.9.0)\n",
      "Requirement already satisfied: pytz>=2020.1 in /home/ubuntu/miniconda/envs/py311/lib/python3.11/site-packages (from pandas->-r ../requirements.txt (line 2)) (2024.1)\n",
      "Requirement already satisfied: tzdata>=2022.7 in /home/ubuntu/miniconda/envs/py311/lib/python3.11/site-packages (from pandas->-r ../requirements.txt (line 2)) (2024.1)\n",
      "Collecting arviz>=0.13.0 (from pymc->-r ../requirements.txt (line 3))\n",
      "  Downloading arviz-0.19.0-py3-none-any.whl.metadata (8.9 kB)\n",
      "Requirement already satisfied: cachetools>=4.2.1 in /home/ubuntu/miniconda/envs/py311/lib/python3.11/site-packages (from pymc->-r ../requirements.txt (line 3)) (5.3.3)\n",
      "Requirement already satisfied: cloudpickle in /home/ubuntu/miniconda/envs/py311/lib/python3.11/site-packages (from pymc->-r ../requirements.txt (line 3)) (3.0.0)\n",
      "Collecting pytensor<2.26,>=2.25.1 (from pymc->-r ../requirements.txt (line 3))\n",
      "  Downloading pytensor-2.25.2-cp311-cp311-manylinux_2_17_x86_64.manylinux2014_x86_64.whl.metadata (9.9 kB)\n",
      "Requirement already satisfied: rich>=13.7.1 in /home/ubuntu/miniconda/envs/py311/lib/python3.11/site-packages (from pymc->-r ../requirements.txt (line 3)) (13.7.1)\n",
      "Requirement already satisfied: scipy>=1.4.1 in /home/ubuntu/miniconda/envs/py311/lib/python3.11/site-packages (from pymc->-r ../requirements.txt (line 3)) (1.14.0)\n",
      "Requirement already satisfied: threadpoolctl<4.0.0,>=3.1.0 in /home/ubuntu/miniconda/envs/py311/lib/python3.11/site-packages (from pymc->-r ../requirements.txt (line 3)) (3.5.0)\n",
      "Requirement already satisfied: typing-extensions>=3.7.4 in /home/ubuntu/miniconda/envs/py311/lib/python3.11/site-packages (from pymc->-r ../requirements.txt (line 3)) (4.12.2)\n",
      "Requirement already satisfied: setuptools>=60.0.0 in /home/ubuntu/miniconda/envs/py311/lib/python3.11/site-packages (from arviz>=0.13.0->pymc->-r ../requirements.txt (line 3)) (70.1.1)\n",
      "Requirement already satisfied: matplotlib>=3.5 in /home/ubuntu/miniconda/envs/py311/lib/python3.11/site-packages (from arviz>=0.13.0->pymc->-r ../requirements.txt (line 3)) (3.8.4)\n",
      "Requirement already satisfied: packaging in /home/ubuntu/miniconda/envs/py311/lib/python3.11/site-packages (from arviz>=0.13.0->pymc->-r ../requirements.txt (line 3)) (24.1)\n",
      "Collecting dm-tree>=0.1.8 (from arviz>=0.13.0->pymc->-r ../requirements.txt (line 3))\n",
      "  Downloading dm_tree-0.1.8-cp311-cp311-manylinux_2_17_x86_64.manylinux2014_x86_64.whl.metadata (1.9 kB)\n",
      "Collecting xarray>=2022.6.0 (from arviz>=0.13.0->pymc->-r ../requirements.txt (line 3))\n",
      "  Downloading xarray-2024.6.0-py3-none-any.whl.metadata (11 kB)\n",
      "Collecting h5netcdf>=1.0.2 (from arviz>=0.13.0->pymc->-r ../requirements.txt (line 3))\n",
      "  Downloading h5netcdf-1.3.0-py3-none-any.whl.metadata (13 kB)\n",
      "Collecting xarray-einstats>=0.3 (from arviz>=0.13.0->pymc->-r ../requirements.txt (line 3))\n",
      "  Downloading xarray_einstats-0.7.0-py3-none-any.whl.metadata (5.8 kB)\n",
      "Collecting scipy>=1.4.1 (from pymc->-r ../requirements.txt (line 3))\n",
      "  Downloading scipy-1.13.1-cp311-cp311-manylinux_2_17_x86_64.manylinux2014_x86_64.whl.metadata (60 kB)\n",
      "\u001b[2K     \u001b[90m━━━━━━━━━━━━━━━━━━━━━━━━━━━━━━━━━━━━━━━\u001b[0m \u001b[32m60.6/60.6 kB\u001b[0m \u001b[31m895.4 kB/s\u001b[0m eta \u001b[36m0:00:00\u001b[0ma \u001b[36m0:00:01\u001b[0m\n",
      "\u001b[?25hCollecting numpy (from -r ../requirements.txt (line 1))\n",
      "  Downloading numpy-1.26.4-cp311-cp311-manylinux_2_17_x86_64.manylinux2014_x86_64.whl.metadata (61 kB)\n",
      "\u001b[2K     \u001b[90m━━━━━━━━━━━━━━━━━━━━━━━━━━━━━━━━━━━━━━━━\u001b[0m \u001b[32m61.0/61.0 kB\u001b[0m \u001b[31m6.9 MB/s\u001b[0m eta \u001b[36m0:00:00\u001b[0m\n",
      "\u001b[?25hRequirement already satisfied: filelock>=3.15 in /home/ubuntu/miniconda/envs/py311/lib/python3.11/site-packages (from pytensor<2.26,>=2.25.1->pymc->-r ../requirements.txt (line 3)) (3.15.4)\n",
      "Collecting etuples (from pytensor<2.26,>=2.25.1->pymc->-r ../requirements.txt (line 3))\n",
      "  Downloading etuples-0.3.9.tar.gz (30 kB)\n",
      "  Preparing metadata (setup.py) ... \u001b[?25ldone\n",
      "\u001b[?25hCollecting logical-unification (from pytensor<2.26,>=2.25.1->pymc->-r ../requirements.txt (line 3))\n",
      "  Downloading logical-unification-0.4.6.tar.gz (31 kB)\n",
      "  Preparing metadata (setup.py) ... \u001b[?25ldone\n",
      "\u001b[?25hCollecting miniKanren (from pytensor<2.26,>=2.25.1->pymc->-r ../requirements.txt (line 3))\n",
      "  Downloading miniKanren-1.0.3.tar.gz (41 kB)\n",
      "\u001b[2K     \u001b[90m━━━━━━━━━━━━━━━━━━━━━━━━━━━━━━━━━━━━━━━━\u001b[0m \u001b[32m41.3/41.3 kB\u001b[0m \u001b[31m4.5 MB/s\u001b[0m eta \u001b[36m0:00:00\u001b[0m\n",
      "\u001b[?25h  Preparing metadata (setup.py) ... \u001b[?25ldone\n",
      "\u001b[?25hCollecting cons (from pytensor<2.26,>=2.25.1->pymc->-r ../requirements.txt (line 3))\n",
      "  Downloading cons-0.4.6.tar.gz (26 kB)\n",
      "  Preparing metadata (setup.py) ... \u001b[?25ldone\n",
      "\u001b[?25hRequirement already satisfied: six>=1.5 in /home/ubuntu/miniconda/envs/py311/lib/python3.11/site-packages (from python-dateutil>=2.8.2->pandas->-r ../requirements.txt (line 2)) (1.16.0)\n",
      "Requirement already satisfied: markdown-it-py>=2.2.0 in /home/ubuntu/miniconda/envs/py311/lib/python3.11/site-packages (from rich>=13.7.1->pymc->-r ../requirements.txt (line 3)) (3.0.0)\n",
      "Requirement already satisfied: pygments<3.0.0,>=2.13.0 in /home/ubuntu/miniconda/envs/py311/lib/python3.11/site-packages (from rich>=13.7.1->pymc->-r ../requirements.txt (line 3)) (2.18.0)\n",
      "Collecting h5py (from h5netcdf>=1.0.2->arviz>=0.13.0->pymc->-r ../requirements.txt (line 3))\n",
      "  Downloading h5py-3.11.0-cp311-cp311-manylinux_2_17_x86_64.manylinux2014_x86_64.whl.metadata (2.5 kB)\n",
      "Requirement already satisfied: mdurl~=0.1 in /home/ubuntu/miniconda/envs/py311/lib/python3.11/site-packages (from markdown-it-py>=2.2.0->rich>=13.7.1->pymc->-r ../requirements.txt (line 3)) (0.1.2)\n",
      "Requirement already satisfied: contourpy>=1.0.1 in /home/ubuntu/miniconda/envs/py311/lib/python3.11/site-packages (from matplotlib>=3.5->arviz>=0.13.0->pymc->-r ../requirements.txt (line 3)) (1.2.1)\n",
      "Requirement already satisfied: cycler>=0.10 in /home/ubuntu/miniconda/envs/py311/lib/python3.11/site-packages (from matplotlib>=3.5->arviz>=0.13.0->pymc->-r ../requirements.txt (line 3)) (0.12.1)\n",
      "Requirement already satisfied: fonttools>=4.22.0 in /home/ubuntu/miniconda/envs/py311/lib/python3.11/site-packages (from matplotlib>=3.5->arviz>=0.13.0->pymc->-r ../requirements.txt (line 3)) (4.53.1)\n",
      "Requirement already satisfied: kiwisolver>=1.3.1 in /home/ubuntu/miniconda/envs/py311/lib/python3.11/site-packages (from matplotlib>=3.5->arviz>=0.13.0->pymc->-r ../requirements.txt (line 3)) (1.4.5)\n",
      "Requirement already satisfied: pillow>=8 in /home/ubuntu/miniconda/envs/py311/lib/python3.11/site-packages (from matplotlib>=3.5->arviz>=0.13.0->pymc->-r ../requirements.txt (line 3)) (10.4.0)\n",
      "Requirement already satisfied: pyparsing>=2.3.1 in /home/ubuntu/miniconda/envs/py311/lib/python3.11/site-packages (from matplotlib>=3.5->arviz>=0.13.0->pymc->-r ../requirements.txt (line 3)) (3.1.2)\n",
      "Requirement already satisfied: toolz in /home/ubuntu/miniconda/envs/py311/lib/python3.11/site-packages (from logical-unification->pytensor<2.26,>=2.25.1->pymc->-r ../requirements.txt (line 3)) (0.12.1)\n",
      "Collecting multipledispatch (from logical-unification->pytensor<2.26,>=2.25.1->pymc->-r ../requirements.txt (line 3))\n",
      "  Downloading multipledispatch-1.0.0-py3-none-any.whl.metadata (3.8 kB)\n",
      "Downloading pymc-5.16.2-py3-none-any.whl (489 kB)\n",
      "\u001b[2K   \u001b[90m━━━━━━━━━━━━━━━━━━━━━━━━━━━━━━━━━━━━━━━━\u001b[0m \u001b[32m489.9/489.9 kB\u001b[0m \u001b[31m52.3 MB/s\u001b[0m eta \u001b[36m0:00:00\u001b[0m\n",
      "\u001b[?25hDownloading arviz-0.19.0-py3-none-any.whl (1.7 MB)\n",
      "\u001b[2K   \u001b[90m━━━━━━━━━━━━━━━━━━━━━━━━━━━━━━━━━━━━━━━━\u001b[0m \u001b[32m1.7/1.7 MB\u001b[0m \u001b[31m64.1 MB/s\u001b[0m eta \u001b[36m0:00:00\u001b[0m\n",
      "\u001b[?25hDownloading pytensor-2.25.2-cp311-cp311-manylinux_2_17_x86_64.manylinux2014_x86_64.whl (2.0 MB)\n",
      "\u001b[2K   \u001b[90m━━━━━━━━━━━━━━━━━━━━━━━━━━━━━━━━━━━━━━━━\u001b[0m \u001b[32m2.0/2.0 MB\u001b[0m \u001b[31m28.0 MB/s\u001b[0m eta \u001b[36m0:00:00\u001b[0m:00:01\u001b[0m\n",
      "\u001b[?25hDownloading numpy-1.26.4-cp311-cp311-manylinux_2_17_x86_64.manylinux2014_x86_64.whl (18.3 MB)\n",
      "\u001b[2K   \u001b[90m━━━━━━━━━━━━━━━━━━━━━━━━━━━━━━━━━━━━━━━━\u001b[0m \u001b[32m18.3/18.3 MB\u001b[0m \u001b[31m54.2 MB/s\u001b[0m eta \u001b[36m0:00:00\u001b[0m00:01\u001b[0m00:01\u001b[0m\n",
      "\u001b[?25hDownloading scipy-1.13.1-cp311-cp311-manylinux_2_17_x86_64.manylinux2014_x86_64.whl (38.6 MB)\n",
      "\u001b[2K   \u001b[90m━━━━━━━━━━━━━━━━━━━━━━━━━━━━━━━━━━━━━━━━\u001b[0m \u001b[32m38.6/38.6 MB\u001b[0m \u001b[31m55.3 MB/s\u001b[0m eta \u001b[36m0:00:00\u001b[0m00:01\u001b[0m00:01\u001b[0m\n",
      "\u001b[?25hDownloading dm_tree-0.1.8-cp311-cp311-manylinux_2_17_x86_64.manylinux2014_x86_64.whl (152 kB)\n",
      "\u001b[2K   \u001b[90m━━━━━━━━━━━━━━━━━━━━━━━━━━━━━━━━━━━━━━━━\u001b[0m \u001b[32m152.8/152.8 kB\u001b[0m \u001b[31m10.7 MB/s\u001b[0m eta \u001b[36m0:00:00\u001b[0m\n",
      "\u001b[?25hDownloading h5netcdf-1.3.0-py3-none-any.whl (43 kB)\n",
      "\u001b[2K   \u001b[90m━━━━━━━━━━━━━━━━━━━━━━━━━━━━━━━━━━━━━━━━\u001b[0m \u001b[32m43.6/43.6 kB\u001b[0m \u001b[31m455.5 kB/s\u001b[0m eta \u001b[36m0:00:00\u001b[0ma \u001b[36m0:00:01\u001b[0m\n",
      "\u001b[?25hDownloading xarray-2024.6.0-py3-none-any.whl (1.2 MB)\n",
      "\u001b[2K   \u001b[90m━━━━━━━━━━━━━━━━━━━━━━━━━━━━━━━━━━━━━━━━\u001b[0m \u001b[32m1.2/1.2 MB\u001b[0m \u001b[31m47.8 MB/s\u001b[0m eta \u001b[36m0:00:00\u001b[0m\n",
      "\u001b[?25hDownloading xarray_einstats-0.7.0-py3-none-any.whl (31 kB)\n",
      "Downloading h5py-3.11.0-cp311-cp311-manylinux_2_17_x86_64.manylinux2014_x86_64.whl (5.4 MB)\n",
      "\u001b[2K   \u001b[90m━━━━━━━━━━━━━━━━━━━━━━━━━━━━━━━━━━━━━━━━\u001b[0m \u001b[32m5.4/5.4 MB\u001b[0m \u001b[31m64.2 MB/s\u001b[0m eta \u001b[36m0:00:00\u001b[0ma \u001b[36m0:00:01\u001b[0m\n",
      "\u001b[?25hDownloading multipledispatch-1.0.0-py3-none-any.whl (12 kB)\n",
      "Building wheels for collected packages: cons, logical-unification, etuples, miniKanren\n",
      "  Building wheel for cons (setup.py) ... \u001b[?25ldone\n",
      "\u001b[?25h  Created wheel for cons: filename=cons-0.4.6-py3-none-any.whl size=9098 sha256=346678aa2b22f2ef76e0c8425f8ffedf61cdf452ceb482ee89794ef4911c352d\n",
      "  Stored in directory: /home/ubuntu/.cache/pip/wheels/95/8f/45/fe0a5b5e232401da571d514eb545833fbe220993ac8336c94e\n",
      "  Building wheel for logical-unification (setup.py) ... \u001b[?25ldone\n",
      "\u001b[?25h  Created wheel for logical-unification: filename=logical_unification-0.4.6-py3-none-any.whl size=13911 sha256=1e9ca6010a2c103a8733e93be6cab9f5570d15c4d4f414ffb57024de4564c375\n",
      "  Stored in directory: /home/ubuntu/.cache/pip/wheels/b8/34/a9/c11a21ef1f1b6d2e5ae518dd5d28c0bd2b131c5d6e5d4417c3\n",
      "  Building wheel for etuples (setup.py) ... \u001b[?25ldone\n",
      "\u001b[?25h  Created wheel for etuples: filename=etuples-0.3.9-py3-none-any.whl size=12617 sha256=62a96c6d31ec8b065bba593b42e116fce7249b2693cec68735b51b59e12865ef\n",
      "  Stored in directory: /home/ubuntu/.cache/pip/wheels/11/5a/ad/ebef6395e95b1dfd742afb44db6d92bd5e8921a572b9ff8618\n",
      "  Building wheel for miniKanren (setup.py) ... \u001b[?25ldone\n",
      "\u001b[?25h  Created wheel for miniKanren: filename=miniKanren-1.0.3-py3-none-any.whl size=23907 sha256=07ff4d51b1b977a73f83cef7d9907416b9610a46cdcc33591f575243bbdb0481\n",
      "  Stored in directory: /home/ubuntu/.cache/pip/wheels/8d/86/58/7da4a186a7bb721885e4fb811a54b5a0065b0c624a5deb1259\n",
      "Successfully built cons logical-unification etuples miniKanren\n",
      "Installing collected packages: multipledispatch, dm-tree, numpy, logical-unification, scipy, h5py, cons, xarray, h5netcdf, etuples, xarray-einstats, miniKanren, pytensor, arviz, pymc\n",
      "  Attempting uninstall: numpy\n",
      "    Found existing installation: numpy 2.0.0\n",
      "    Uninstalling numpy-2.0.0:\n",
      "      Successfully uninstalled numpy-2.0.0\n",
      "  Attempting uninstall: scipy\n",
      "    Found existing installation: scipy 1.14.0\n",
      "    Uninstalling scipy-1.14.0:\n",
      "      Successfully uninstalled scipy-1.14.0\n",
      "Successfully installed arviz-0.19.0 cons-0.4.6 dm-tree-0.1.8 etuples-0.3.9 h5netcdf-1.3.0 h5py-3.11.0 logical-unification-0.4.6 miniKanren-1.0.3 multipledispatch-1.0.0 numpy-1.26.4 pymc-5.16.2 pytensor-2.25.2 scipy-1.13.1 xarray-2024.6.0 xarray-einstats-0.7.0\n",
      "\u001b[33mWARNING: Running pip as the 'root' user can result in broken permissions and conflicting behaviour with the system package manager. It is recommended to use a virtual environment instead: https://pip.pypa.io/warnings/venv\u001b[0m\u001b[33m\n",
      "\u001b[0m"
     ]
    }
   ],
   "source": [
    "!pip install -r ../requirements.txt"
   ]
  },
  {
   "cell_type": "markdown",
   "id": "49f3b280-c5d9-4ca6-9a6e-803d16dfb772",
   "metadata": {},
   "source": [
    "## Imports"
   ]
  },
  {
   "cell_type": "code",
   "execution_count": 3,
   "id": "398e8cc8-d1fb-4ad0-adc4-89a89e9d3709",
   "metadata": {
    "tags": []
   },
   "outputs": [],
   "source": [
    "import numpy as np\n",
    "import pandas as pd\n",
    "import pymc as pm"
   ]
  },
  {
   "cell_type": "markdown",
   "id": "0c4829fa-3f28-4534-a2b5-40cbbe13a941",
   "metadata": {},
   "source": [
    "## 1. Data compilation"
   ]
  },
  {
   "cell_type": "code",
   "execution_count": 23,
   "id": "fa1ae350-379a-4b8a-8096-4f04806a6d69",
   "metadata": {
    "tags": []
   },
   "outputs": [],
   "source": [
    "# assumptions\n",
    "# source - https://www.icaew.com/insights/viewpoints-on-the-news/2022/sept-2022/chart-of-the-week-energy-price-cap-update\n",
    "GAS_PRICE_PER_KWH = 3.3\n",
    "ELECTRIC_PRICE_PER_KWH = 19.0 "
   ]
  },
  {
   "cell_type": "code",
   "execution_count": 4,
   "id": "2052d64a-2503-493b-857b-df8a13d1d40e",
   "metadata": {
    "tags": []
   },
   "outputs": [],
   "source": [
    "# look at the headline dataset of consumption by LSOA\n",
    "main_data = pd.read_csv(\"../data/raw/LSOA Energy Consumption Data.csv\")"
   ]
  },
  {
   "cell_type": "code",
   "execution_count": 7,
   "id": "960c30fc-85e6-4c82-b61b-c71ac7916568",
   "metadata": {
    "tags": []
   },
   "outputs": [
    {
     "data": {
      "text/plain": [
       "(33811, 21)"
      ]
     },
     "execution_count": 7,
     "metadata": {},
     "output_type": "execute_result"
    }
   ],
   "source": [
    "main_data.shape"
   ]
  },
  {
   "cell_type": "code",
   "execution_count": 8,
   "id": "8eeb6bfc-85c9-4db4-9097-7fa73c548172",
   "metadata": {
    "tags": []
   },
   "outputs": [
    {
     "data": {
      "text/plain": [
       "33811"
      ]
     },
     "execution_count": 8,
     "metadata": {},
     "output_type": "execute_result"
    }
   ],
   "source": [
    "main_data['Lower Layer Super Output Area (LSOA) Code'].nunique()"
   ]
  },
  {
   "cell_type": "code",
   "execution_count": 6,
   "id": "f129524e-fb33-422f-85df-180e7c239408",
   "metadata": {
    "tags": []
   },
   "outputs": [
    {
     "data": {
      "text/plain": [
       "Index(['Local Authority Name', 'Local Authority Code', 'MSOA Name',\n",
       "       'Middle Layer Super Output Area (MSOA) Code', 'LSOA Name',\n",
       "       'Lower Layer Super Output Area (LSOA) Code', 'Estimated Population',\n",
       "       'Latitude', 'Longitude', 'Shape_Area',\n",
       "       'Number of Connected Electricity Meters',\n",
       "       'Electricity Consumption (kWh)',\n",
       "       'Mean Electricity Consumption (kWh) per meter',\n",
       "       'Median Electricity Consumption (kWh) per meter',\n",
       "       'Number of Consuming Gas Meters', 'Gas Consumption (kWh)',\n",
       "       'Mean Gas Consumption (kWh per meter)',\n",
       "       'Median Gas Consumption (kWh per meter)',\n",
       "       'Numer of non-consuming Gas meters', 'Total Energy Consumption (kWh)',\n",
       "       'Average Energy Consumption per Person (kWh)'],\n",
       "      dtype='object')"
      ]
     },
     "execution_count": 6,
     "metadata": {},
     "output_type": "execute_result"
    }
   ],
   "source": [
    "main_data.columns"
   ]
  },
  {
   "cell_type": "code",
   "execution_count": 10,
   "id": "7fb7b477-6223-42f6-b279-7b4fbc09b618",
   "metadata": {
    "tags": []
   },
   "outputs": [
    {
     "data": {
      "text/plain": [
       "array([ 129865.3144 ,  228419.6347 ,   59054.35193, ..., 2500337.382  ,\n",
       "        213917.1139 ,  608710.6819 ])"
      ]
     },
     "execution_count": 10,
     "metadata": {},
     "output_type": "execute_result"
    }
   ],
   "source": [
    "main_data[\"Shape_Area\"].values"
   ]
  },
  {
   "cell_type": "code",
   "execution_count": 22,
   "id": "2e4d3325-0f81-4e28-8585-1197505ffe51",
   "metadata": {
    "tags": []
   },
   "outputs": [
    {
     "data": {
      "text/plain": [
       "array(['City of London', 'Barking and Dagenham', 'Barnet', 'Bexley',\n",
       "       'Brent', 'Bromley', 'Camden', 'Croydon', 'Ealing', 'Enfield',\n",
       "       'Greenwich', 'Hackney', 'Hammersmith and Fulham', 'Haringey',\n",
       "       'Harrow', 'Havering', 'Hillingdon', 'Hounslow', 'Islington',\n",
       "       'Kensington and Chelsea', 'Kingston upon Thames', 'Lambeth',\n",
       "       'Lewisham', 'Merton', 'Newham', 'Redbridge',\n",
       "       'Richmond upon Thames', 'Southwark', 'Sutton', 'Tower Hamlets',\n",
       "       'Waltham Forest', 'Wandsworth', 'Westminster', 'Bolton', 'Bury',\n",
       "       'Manchester', 'Oldham', 'Rochdale', 'Salford', 'Stockport',\n",
       "       'Tameside', 'Trafford', 'Wigan', 'Knowsley', 'Liverpool',\n",
       "       'St. Helens', 'Sefton', 'Wirral', 'Barnsley', 'Doncaster',\n",
       "       'Rotherham', 'Sheffield', 'Gateshead', 'Newcastle upon Tyne',\n",
       "       'North Tyneside', 'South Tyneside', 'Sunderland', 'Birmingham',\n",
       "       'Coventry', 'Dudley', 'Sandwell', 'Solihull', 'Walsall',\n",
       "       'Wolverhampton', 'Bradford', 'Calderdale', 'Kirklees', 'Leeds',\n",
       "       'Wakefield', 'Hartlepool', 'Middlesbrough', 'Redcar and Cleveland',\n",
       "       'Stockton-on-Tees', 'Darlington', 'Halton', 'Warrington',\n",
       "       'Blackburn with Darwen', 'Blackpool',\n",
       "       'Kingston upon Hull, City of', 'East Riding of Yorkshire',\n",
       "       'North East Lincolnshire', 'North Lincolnshire', 'York', 'Derby',\n",
       "       'Leicester', 'Rutland', 'Nottingham', 'Herefordshire, County of',\n",
       "       'Telford and Wrekin', 'Stoke-on-Trent',\n",
       "       'Bath and North East Somerset', 'Bristol, City of',\n",
       "       'North Somerset', 'South Gloucestershire', 'Plymouth', 'Torbay',\n",
       "       'Bournemouth, Christchurch and Poole', 'Swindon', 'Peterborough',\n",
       "       'Luton', 'Southend-on-Sea', 'Thurrock', 'Medway',\n",
       "       'Bracknell Forest', 'West Berkshire', 'Reading', 'Slough',\n",
       "       'Windsor and Maidenhead', 'Wokingham', 'Milton Keynes',\n",
       "       'Brighton and Hove', 'Portsmouth', 'Southampton', 'Isle of Wight',\n",
       "       'Central Bedfordshire', 'Bedford', 'Buckinghamshire', 'Cambridge',\n",
       "       'East Cambridgeshire', 'Fenland', 'Huntingdonshire',\n",
       "       'South Cambridgeshire', 'Cheshire West and Chester',\n",
       "       'Cheshire East', 'Cornwall', 'Allerdale', 'Barrow-in-Furness',\n",
       "       'Carlisle', 'Copeland', 'Eden', 'South Lakeland', 'Amber Valley',\n",
       "       'Bolsover', 'Chesterfield', 'Derbyshire Dales', 'Erewash',\n",
       "       'High Peak', 'North East Derbyshire', 'South Derbyshire',\n",
       "       'East Devon', 'Exeter', 'Mid Devon', 'North Devon', 'South Hams',\n",
       "       'Teignbridge', 'Torridge', 'West Devon', 'Dorset', 'County Durham',\n",
       "       'Eastbourne', 'Hastings', 'Lewes', 'Rother', 'Wealden', 'Basildon',\n",
       "       'Braintree', 'Brentwood', 'Castle Point', 'Chelmsford',\n",
       "       'Colchester', 'Epping Forest', 'Harlow', 'Maldon', 'Rochford',\n",
       "       'Tendring', 'Uttlesford', 'Cheltenham', 'Cotswold',\n",
       "       'Forest of Dean', 'Gloucester', 'Stroud', 'Tewkesbury',\n",
       "       'Basingstoke and Deane', 'East Hampshire', 'Eastleigh', 'Fareham',\n",
       "       'Gosport', 'Hart', 'Havant', 'New Forest', 'Rushmoor',\n",
       "       'Test Valley', 'Winchester', 'Broxbourne', 'Dacorum',\n",
       "       'East Hertfordshire', 'Hertsmere', 'North Hertfordshire',\n",
       "       'St Albans', 'Stevenage', 'Three Rivers', 'Watford',\n",
       "       'Welwyn Hatfield', 'Ashford', 'Canterbury', 'Dartford', 'Dover',\n",
       "       'Gravesham', 'Maidstone', 'Sevenoaks', 'Folkestone and Hythe',\n",
       "       'Swale', 'Thanet', 'Tonbridge and Malling', 'Tunbridge Wells',\n",
       "       'Burnley', 'Chorley', 'Fylde', 'Hyndburn', 'Lancaster', 'Pendle',\n",
       "       'Preston', 'Ribble Valley', 'Rossendale', 'South Ribble',\n",
       "       'West Lancashire', 'Wyre', 'Blaby', 'Charnwood', 'Harborough',\n",
       "       'Hinckley and Bosworth', 'Melton', 'North West Leicestershire',\n",
       "       'Oadby and Wigston', 'Boston', 'East Lindsey', 'Lincoln',\n",
       "       'North Kesteven', 'South Holland', 'South Kesteven',\n",
       "       'West Lindsey', 'Breckland', 'Broadland', 'Great Yarmouth',\n",
       "       \"King's Lynn and West Norfolk\", 'North Norfolk', 'Norwich',\n",
       "       'South Norfolk', 'Corby', 'Daventry', 'East Northamptonshire',\n",
       "       'Kettering', 'Northampton', 'South Northamptonshire',\n",
       "       'Wellingborough', 'Northumberland', 'Craven', 'Hambleton',\n",
       "       'Harrogate', 'Richmondshire', 'Ryedale', 'Scarborough', 'Selby',\n",
       "       'Ashfield', 'Bassetlaw', 'Broxtowe', 'Gedling', 'Mansfield',\n",
       "       'Newark and Sherwood', 'Rushcliffe', 'Cherwell', 'Oxford',\n",
       "       'South Oxfordshire', 'Vale of White Horse', 'West Oxfordshire',\n",
       "       'Shropshire', 'Mendip', 'Sedgemoor', 'South Somerset',\n",
       "       'Somerset West and Taunton', 'Cannock Chase', 'East Staffordshire',\n",
       "       'Lichfield', 'Newcastle-under-Lyme', 'South Staffordshire',\n",
       "       'Stafford', 'Staffordshire Moorlands', 'Tamworth', 'Babergh',\n",
       "       'West Suffolk', 'Ipswich', 'Mid Suffolk', 'East Suffolk',\n",
       "       'Elmbridge', 'Epsom and Ewell', 'Guildford', 'Mole Valley',\n",
       "       'Reigate and Banstead', 'Runnymede', 'Spelthorne', 'Surrey Heath',\n",
       "       'Tandridge', 'Waverley', 'Woking', 'North Warwickshire',\n",
       "       'Nuneaton and Bedworth', 'Rugby', 'Stratford-on-Avon', 'Warwick',\n",
       "       'Adur', 'Arun', 'Chichester', 'Crawley', 'Horsham', 'Mid Sussex',\n",
       "       'Worthing', 'Wiltshire', 'Bromsgrove', 'Malvern Hills', 'Redditch',\n",
       "       'Worcester', 'Wychavon', 'Wyre Forest', 'Isle of Anglesey',\n",
       "       'Gwynedd', 'Conwy', 'Denbighshire', 'Flintshire', 'Wrexham',\n",
       "       'Powys', 'Ceredigion', 'Pembrokeshire', 'Carmarthenshire',\n",
       "       'Swansea', 'Neath Port Talbot', 'Bridgend', 'Vale of Glamorgan',\n",
       "       'Rhondda Cynon Taf', 'Merthyr Tydfil', 'Caerphilly',\n",
       "       'Blaenau Gwent', 'Torfaen', 'Monmouthshire', 'Newport', 'Cardiff'],\n",
       "      dtype=object)"
      ]
     },
     "execution_count": 22,
     "metadata": {},
     "output_type": "execute_result"
    }
   ],
   "source": [
    "main_data[\"Local Authority Name\"].unique()"
   ]
  },
  {
   "cell_type": "code",
   "execution_count": 11,
   "id": "4ea06104-54c0-4204-9cdb-cce09b8dc70b",
   "metadata": {
    "tags": []
   },
   "outputs": [],
   "source": [
    "# look at household size data\n",
    "household_size = pd.read_csv(\"../data/raw/RM202-Household-Size-By-Number-Of-Rooms-2021-lsoa-ONS.csv\")"
   ]
  },
  {
   "cell_type": "code",
   "execution_count": 15,
   "id": "82b78ba0-8e16-48fb-a761-767d51822e02",
   "metadata": {
    "tags": []
   },
   "outputs": [
    {
     "data": {
      "text/plain": [
       "array([1, 2, 3, 4, 5, 6])"
      ]
     },
     "execution_count": 15,
     "metadata": {},
     "output_type": "execute_result"
    }
   ],
   "source": [
    "household_size[\"Number of rooms (Valuation Office Agency) (6 categories) Code\"].unique()"
   ]
  },
  {
   "cell_type": "code",
   "execution_count": 18,
   "id": "81ac2e21-fa46-45cc-8fcb-469a4e2c0d52",
   "metadata": {
    "tags": []
   },
   "outputs": [
    {
     "data": {
      "text/plain": [
       "array([0, 1, 2, 3, 4])"
      ]
     },
     "execution_count": 18,
     "metadata": {},
     "output_type": "execute_result"
    }
   ],
   "source": [
    "household_size[household_size[\"Number of rooms (Valuation Office Agency) (6 categories) Code\"] == 4][\"Household size (5 categories) Code\"].unique()"
   ]
  },
  {
   "cell_type": "code",
   "execution_count": 17,
   "id": "60b16841-b37b-4f73-86ed-dad3c0dfe46b",
   "metadata": {
    "tags": []
   },
   "outputs": [],
   "source": [
    "building_age = pd.read_csv(\"../data/raw/CTSOP_4_1_2021.csv\")"
   ]
  },
  {
   "cell_type": "code",
   "execution_count": 26,
   "id": "023fe03b-9409-4572-8eac-056c7bc69aef",
   "metadata": {
    "tags": []
   },
   "outputs": [],
   "source": [
    "# Library to work with netCDF files\n",
    "from netCDF4 import Dataset\n",
    "\n",
    "file_name = \"../data/raw/tas_hadukgrid_uk_60km_ann_202101-202112.nc\"\n",
    "file_id = Dataset(file_name)\n",
    "\n",
    "latitude = file_id.variables[\"latitude\"][:,:]\n",
    "longitude = file_id.variables[\"longitude\"][:,:]\n",
    "temps = file_id.variables[\"tas\"][:,:]\n",
    "\n",
    "lats = [np.mean(x) for x in latitude]\n",
    "longs = [np.mean(x) for x in longitude] \n",
    "ts = [np.mean(x) for x in temps[0]]\n",
    "temp_data = pd.DataFrame({\"latitude\": lats,\n",
    "                          \"longitude\": longs,\n",
    "                          \"temperature\": ts}\n",
    "                        )\n",
    "\n",
    "temp_data = temp_data[temp_data.temperature > 0]"
   ]
  },
  {
   "cell_type": "markdown",
   "id": "be0bbfd3-e40f-4c67-9a5f-621eb71eb042",
   "metadata": {},
   "source": [
    "## 2. Analysis"
   ]
  },
  {
   "cell_type": "code",
   "execution_count": null,
   "id": "2ef468b3-d1dd-4710-a0aa-eff682dc94e6",
   "metadata": {},
   "outputs": [],
   "source": []
  },
  {
   "cell_type": "markdown",
   "id": "ba7944d0-e82c-4d30-bc11-78419c09378c",
   "metadata": {},
   "source": [
    "## 3. Modelling"
   ]
  },
  {
   "cell_type": "code",
   "execution_count": null,
   "id": "320d898a-1387-4420-a4fc-82be6c2528c2",
   "metadata": {},
   "outputs": [],
   "source": []
  }
 ],
 "metadata": {
  "kernelspec": {
   "display_name": "Python 3.11",
   "language": "python",
   "name": "py311"
  },
  "language_info": {
   "codemirror_mode": {
    "name": "ipython",
    "version": 3
   },
   "file_extension": ".py",
   "mimetype": "text/x-python",
   "name": "python",
   "nbconvert_exporter": "python",
   "pygments_lexer": "ipython3",
   "version": "3.11.9"
  }
 },
 "nbformat": 4,
 "nbformat_minor": 5
}
