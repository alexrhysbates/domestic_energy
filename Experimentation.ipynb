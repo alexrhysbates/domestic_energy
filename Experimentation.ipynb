{
 "cells": [
  {
   "cell_type": "markdown",
   "id": "cbbdb99a-f7f8-4b0e-83aa-c67ad5edfab4",
   "metadata": {},
   "source": [
    "# Experimenting with possible approaches"
   ]
  },
  {
   "cell_type": "code",
   "execution_count": 1,
   "id": "1ffe27c8-e1a6-4ad6-99fe-bb0fec41edeb",
   "metadata": {
    "tags": []
   },
   "outputs": [
    {
     "name": "stdout",
     "output_type": "stream",
     "text": [
      "Requirement already satisfied: geopy in /home/ubuntu/miniconda/envs/py311/lib/python3.11/site-packages (from -r ../requirements.txt (line 1)) (2.4.1)\n",
      "Requirement already satisfied: netCDF4 in /home/ubuntu/miniconda/envs/py311/lib/python3.11/site-packages (from -r ../requirements.txt (line 2)) (1.7.1.post1)\n",
      "Requirement already satisfied: numpy in /home/ubuntu/miniconda/envs/py311/lib/python3.11/site-packages (from -r ../requirements.txt (line 3)) (1.26.4)\n",
      "Requirement already satisfied: pandas in /home/ubuntu/miniconda/envs/py311/lib/python3.11/site-packages (from -r ../requirements.txt (line 4)) (2.2.2)\n",
      "Requirement already satisfied: pymc in /home/ubuntu/miniconda/envs/py311/lib/python3.11/site-packages (from -r ../requirements.txt (line 5)) (5.16.2)\n",
      "Requirement already satisfied: geographiclib<3,>=1.52 in /home/ubuntu/miniconda/envs/py311/lib/python3.11/site-packages (from geopy->-r ../requirements.txt (line 1)) (2.0)\n",
      "Requirement already satisfied: cftime in /home/ubuntu/miniconda/envs/py311/lib/python3.11/site-packages (from netCDF4->-r ../requirements.txt (line 2)) (1.6.4)\n",
      "Requirement already satisfied: certifi in /home/ubuntu/miniconda/envs/py311/lib/python3.11/site-packages (from netCDF4->-r ../requirements.txt (line 2)) (2024.7.4)\n",
      "Requirement already satisfied: python-dateutil>=2.8.2 in /home/ubuntu/miniconda/envs/py311/lib/python3.11/site-packages (from pandas->-r ../requirements.txt (line 4)) (2.9.0)\n",
      "Requirement already satisfied: pytz>=2020.1 in /home/ubuntu/miniconda/envs/py311/lib/python3.11/site-packages (from pandas->-r ../requirements.txt (line 4)) (2024.1)\n",
      "Requirement already satisfied: tzdata>=2022.7 in /home/ubuntu/miniconda/envs/py311/lib/python3.11/site-packages (from pandas->-r ../requirements.txt (line 4)) (2024.1)\n",
      "Requirement already satisfied: arviz>=0.13.0 in /home/ubuntu/miniconda/envs/py311/lib/python3.11/site-packages (from pymc->-r ../requirements.txt (line 5)) (0.19.0)\n",
      "Requirement already satisfied: cachetools>=4.2.1 in /home/ubuntu/miniconda/envs/py311/lib/python3.11/site-packages (from pymc->-r ../requirements.txt (line 5)) (5.3.3)\n",
      "Requirement already satisfied: cloudpickle in /home/ubuntu/miniconda/envs/py311/lib/python3.11/site-packages (from pymc->-r ../requirements.txt (line 5)) (3.0.0)\n",
      "Requirement already satisfied: pytensor<2.26,>=2.25.1 in /home/ubuntu/miniconda/envs/py311/lib/python3.11/site-packages (from pymc->-r ../requirements.txt (line 5)) (2.25.2)\n",
      "Requirement already satisfied: rich>=13.7.1 in /home/ubuntu/miniconda/envs/py311/lib/python3.11/site-packages (from pymc->-r ../requirements.txt (line 5)) (13.7.1)\n",
      "Requirement already satisfied: scipy>=1.4.1 in /home/ubuntu/miniconda/envs/py311/lib/python3.11/site-packages (from pymc->-r ../requirements.txt (line 5)) (1.13.1)\n",
      "Requirement already satisfied: threadpoolctl<4.0.0,>=3.1.0 in /home/ubuntu/miniconda/envs/py311/lib/python3.11/site-packages (from pymc->-r ../requirements.txt (line 5)) (3.5.0)\n",
      "Requirement already satisfied: typing-extensions>=3.7.4 in /home/ubuntu/miniconda/envs/py311/lib/python3.11/site-packages (from pymc->-r ../requirements.txt (line 5)) (4.12.2)\n",
      "Requirement already satisfied: setuptools>=60.0.0 in /home/ubuntu/miniconda/envs/py311/lib/python3.11/site-packages (from arviz>=0.13.0->pymc->-r ../requirements.txt (line 5)) (70.1.1)\n",
      "Requirement already satisfied: matplotlib>=3.5 in /home/ubuntu/miniconda/envs/py311/lib/python3.11/site-packages (from arviz>=0.13.0->pymc->-r ../requirements.txt (line 5)) (3.8.4)\n",
      "Requirement already satisfied: packaging in /home/ubuntu/miniconda/envs/py311/lib/python3.11/site-packages (from arviz>=0.13.0->pymc->-r ../requirements.txt (line 5)) (24.1)\n",
      "Requirement already satisfied: dm-tree>=0.1.8 in /home/ubuntu/miniconda/envs/py311/lib/python3.11/site-packages (from arviz>=0.13.0->pymc->-r ../requirements.txt (line 5)) (0.1.8)\n",
      "Requirement already satisfied: xarray>=2022.6.0 in /home/ubuntu/miniconda/envs/py311/lib/python3.11/site-packages (from arviz>=0.13.0->pymc->-r ../requirements.txt (line 5)) (2024.6.0)\n",
      "Requirement already satisfied: h5netcdf>=1.0.2 in /home/ubuntu/miniconda/envs/py311/lib/python3.11/site-packages (from arviz>=0.13.0->pymc->-r ../requirements.txt (line 5)) (1.3.0)\n",
      "Requirement already satisfied: xarray-einstats>=0.3 in /home/ubuntu/miniconda/envs/py311/lib/python3.11/site-packages (from arviz>=0.13.0->pymc->-r ../requirements.txt (line 5)) (0.7.0)\n",
      "Requirement already satisfied: filelock>=3.15 in /home/ubuntu/miniconda/envs/py311/lib/python3.11/site-packages (from pytensor<2.26,>=2.25.1->pymc->-r ../requirements.txt (line 5)) (3.15.4)\n",
      "Requirement already satisfied: etuples in /home/ubuntu/miniconda/envs/py311/lib/python3.11/site-packages (from pytensor<2.26,>=2.25.1->pymc->-r ../requirements.txt (line 5)) (0.3.9)\n",
      "Requirement already satisfied: logical-unification in /home/ubuntu/miniconda/envs/py311/lib/python3.11/site-packages (from pytensor<2.26,>=2.25.1->pymc->-r ../requirements.txt (line 5)) (0.4.6)\n",
      "Requirement already satisfied: miniKanren in /home/ubuntu/miniconda/envs/py311/lib/python3.11/site-packages (from pytensor<2.26,>=2.25.1->pymc->-r ../requirements.txt (line 5)) (1.0.3)\n",
      "Requirement already satisfied: cons in /home/ubuntu/miniconda/envs/py311/lib/python3.11/site-packages (from pytensor<2.26,>=2.25.1->pymc->-r ../requirements.txt (line 5)) (0.4.6)\n",
      "Requirement already satisfied: six>=1.5 in /home/ubuntu/miniconda/envs/py311/lib/python3.11/site-packages (from python-dateutil>=2.8.2->pandas->-r ../requirements.txt (line 4)) (1.16.0)\n",
      "Requirement already satisfied: markdown-it-py>=2.2.0 in /home/ubuntu/miniconda/envs/py311/lib/python3.11/site-packages (from rich>=13.7.1->pymc->-r ../requirements.txt (line 5)) (3.0.0)\n",
      "Requirement already satisfied: pygments<3.0.0,>=2.13.0 in /home/ubuntu/miniconda/envs/py311/lib/python3.11/site-packages (from rich>=13.7.1->pymc->-r ../requirements.txt (line 5)) (2.18.0)\n",
      "Requirement already satisfied: h5py in /home/ubuntu/miniconda/envs/py311/lib/python3.11/site-packages (from h5netcdf>=1.0.2->arviz>=0.13.0->pymc->-r ../requirements.txt (line 5)) (3.11.0)\n",
      "Requirement already satisfied: mdurl~=0.1 in /home/ubuntu/miniconda/envs/py311/lib/python3.11/site-packages (from markdown-it-py>=2.2.0->rich>=13.7.1->pymc->-r ../requirements.txt (line 5)) (0.1.2)\n",
      "Requirement already satisfied: contourpy>=1.0.1 in /home/ubuntu/miniconda/envs/py311/lib/python3.11/site-packages (from matplotlib>=3.5->arviz>=0.13.0->pymc->-r ../requirements.txt (line 5)) (1.2.1)\n",
      "Requirement already satisfied: cycler>=0.10 in /home/ubuntu/miniconda/envs/py311/lib/python3.11/site-packages (from matplotlib>=3.5->arviz>=0.13.0->pymc->-r ../requirements.txt (line 5)) (0.12.1)\n",
      "Requirement already satisfied: fonttools>=4.22.0 in /home/ubuntu/miniconda/envs/py311/lib/python3.11/site-packages (from matplotlib>=3.5->arviz>=0.13.0->pymc->-r ../requirements.txt (line 5)) (4.53.1)\n",
      "Requirement already satisfied: kiwisolver>=1.3.1 in /home/ubuntu/miniconda/envs/py311/lib/python3.11/site-packages (from matplotlib>=3.5->arviz>=0.13.0->pymc->-r ../requirements.txt (line 5)) (1.4.5)\n",
      "Requirement already satisfied: pillow>=8 in /home/ubuntu/miniconda/envs/py311/lib/python3.11/site-packages (from matplotlib>=3.5->arviz>=0.13.0->pymc->-r ../requirements.txt (line 5)) (10.4.0)\n",
      "Requirement already satisfied: pyparsing>=2.3.1 in /home/ubuntu/miniconda/envs/py311/lib/python3.11/site-packages (from matplotlib>=3.5->arviz>=0.13.0->pymc->-r ../requirements.txt (line 5)) (3.1.2)\n",
      "Requirement already satisfied: toolz in /home/ubuntu/miniconda/envs/py311/lib/python3.11/site-packages (from logical-unification->pytensor<2.26,>=2.25.1->pymc->-r ../requirements.txt (line 5)) (0.12.1)\n",
      "Requirement already satisfied: multipledispatch in /home/ubuntu/miniconda/envs/py311/lib/python3.11/site-packages (from logical-unification->pytensor<2.26,>=2.25.1->pymc->-r ../requirements.txt (line 5)) (1.0.0)\n",
      "\u001b[33mWARNING: Running pip as the 'root' user can result in broken permissions and conflicting behaviour with the system package manager. It is recommended to use a virtual environment instead: https://pip.pypa.io/warnings/venv\u001b[0m\u001b[33m\n",
      "\u001b[0m"
     ]
    }
   ],
   "source": [
    "!pip install -r ../requirements.txt"
   ]
  },
  {
   "cell_type": "markdown",
   "id": "49f3b280-c5d9-4ca6-9a6e-803d16dfb772",
   "metadata": {},
   "source": [
    "## Imports"
   ]
  },
  {
   "cell_type": "code",
   "execution_count": 2,
   "id": "398e8cc8-d1fb-4ad0-adc4-89a89e9d3709",
   "metadata": {
    "tags": []
   },
   "outputs": [],
   "source": [
    "import numpy as np\n",
    "import pandas as pd\n",
    "import pymc as pm\n",
    "import geopy.distance"
   ]
  },
  {
   "cell_type": "markdown",
   "id": "0c4829fa-3f28-4534-a2b5-40cbbe13a941",
   "metadata": {},
   "source": [
    "## 1. Data compilation"
   ]
  },
  {
   "cell_type": "code",
   "execution_count": 3,
   "id": "fa1ae350-379a-4b8a-8096-4f04806a6d69",
   "metadata": {
    "tags": []
   },
   "outputs": [],
   "source": [
    "# assumptions\n",
    "# source - https://www.icaew.com/insights/viewpoints-on-the-news/2022/sept-2022/chart-of-the-week-energy-price-cap-update\n",
    "GAS_PRICE_PER_KWH = 3.3\n",
    "ELECTRIC_PRICE_PER_KWH = 19.0 "
   ]
  },
  {
   "cell_type": "code",
   "execution_count": 4,
   "id": "2052d64a-2503-493b-857b-df8a13d1d40e",
   "metadata": {
    "tags": []
   },
   "outputs": [],
   "source": [
    "# look at the headline dataset of consumption by LSOA\n",
    "main_data = pd.read_csv(\"../data/raw/LSOA Energy Consumption Data.csv\")"
   ]
  },
  {
   "cell_type": "code",
   "execution_count": 5,
   "id": "960c30fc-85e6-4c82-b61b-c71ac7916568",
   "metadata": {
    "tags": []
   },
   "outputs": [
    {
     "data": {
      "text/plain": [
       "(33811, 21)"
      ]
     },
     "execution_count": 5,
     "metadata": {},
     "output_type": "execute_result"
    }
   ],
   "source": [
    "main_data.shape"
   ]
  },
  {
   "cell_type": "code",
   "execution_count": 6,
   "id": "8eeb6bfc-85c9-4db4-9097-7fa73c548172",
   "metadata": {
    "tags": []
   },
   "outputs": [
    {
     "data": {
      "text/plain": [
       "33811"
      ]
     },
     "execution_count": 6,
     "metadata": {},
     "output_type": "execute_result"
    }
   ],
   "source": [
    "main_data['Lower Layer Super Output Area (LSOA) Code'].nunique()"
   ]
  },
  {
   "cell_type": "code",
   "execution_count": 7,
   "id": "4ea06104-54c0-4204-9cdb-cce09b8dc70b",
   "metadata": {
    "tags": []
   },
   "outputs": [],
   "source": [
    "# look at household size data\n",
    "household_size = pd.read_csv(\"../data/raw/RM202-Household-Size-By-Number-Of-Rooms-2021-lsoa-ONS.csv\")"
   ]
  },
  {
   "cell_type": "code",
   "execution_count": 8,
   "id": "82b78ba0-8e16-48fb-a761-767d51822e02",
   "metadata": {
    "tags": []
   },
   "outputs": [
    {
     "data": {
      "text/plain": [
       "array([1, 2, 3, 4, 5, 6])"
      ]
     },
     "execution_count": 8,
     "metadata": {},
     "output_type": "execute_result"
    }
   ],
   "source": [
    "household_size[\"Number of rooms (Valuation Office Agency) (6 categories) Code\"].unique()"
   ]
  },
  {
   "cell_type": "code",
   "execution_count": 9,
   "id": "81ac2e21-fa46-45cc-8fcb-469a4e2c0d52",
   "metadata": {
    "tags": []
   },
   "outputs": [
    {
     "data": {
      "text/plain": [
       "array([0, 1, 2, 3, 4])"
      ]
     },
     "execution_count": 9,
     "metadata": {},
     "output_type": "execute_result"
    }
   ],
   "source": [
    "household_size[household_size[\"Number of rooms (Valuation Office Agency) (6 categories) Code\"] == 4][\"Household size (5 categories) Code\"].unique()"
   ]
  },
  {
   "cell_type": "code",
   "execution_count": 10,
   "id": "60b16841-b37b-4f73-86ed-dad3c0dfe46b",
   "metadata": {
    "tags": []
   },
   "outputs": [],
   "source": [
    "building_age = pd.read_csv(\"../data/raw/CTSOP_4_1_2021.csv\")"
   ]
  },
  {
   "cell_type": "code",
   "execution_count": 11,
   "id": "023fe03b-9409-4572-8eac-056c7bc69aef",
   "metadata": {
    "tags": []
   },
   "outputs": [],
   "source": [
    "# Library to work with netCDF files\n",
    "from netCDF4 import Dataset\n",
    "\n",
    "file_name = \"../data/raw/tas_hadukgrid_uk_60km_ann_202101-202112.nc\"\n",
    "file_id = Dataset(file_name)\n",
    "\n",
    "latitude = file_id.variables[\"latitude\"][:,:]\n",
    "longitude = file_id.variables[\"longitude\"][:,:]\n",
    "temps = file_id.variables[\"tas\"][:,:]\n",
    "\n",
    "lats = [np.mean(x) for x in latitude]\n",
    "longs = [np.mean(x) for x in longitude] \n",
    "ts = [np.mean(x) for x in temps[0]]\n",
    "temp_data = pd.DataFrame({\"latitude\": lats,\n",
    "                          \"longitude\": longs,\n",
    "                          \"temperature\": ts}\n",
    "                        )\n",
    "\n",
    "temp_data = temp_data[temp_data.temperature > 0]"
   ]
  },
  {
   "cell_type": "markdown",
   "id": "28054fd7-020e-48ac-ab74-fe480b78a750",
   "metadata": {},
   "source": [
    "### Combining and generating features"
   ]
  },
  {
   "cell_type": "code",
   "execution_count": 12,
   "id": "a4277d0d-908c-4854-b31f-d98edd03bf67",
   "metadata": {
    "tags": []
   },
   "outputs": [],
   "source": [
    "# feature generation\n",
    "main_data[\"pct_electric\"] = main_data['Electricity Consumption (kWh)'] / main_data['Total Energy Consumption (kWh)']\n",
    "main_data[\"coords\"] = [(lat, long) for lat, long in zip(main_data.Latitude, main_data.Longitude)]"
   ]
  },
  {
   "cell_type": "code",
   "execution_count": 13,
   "id": "30d30fee-8cff-4dae-bcbb-6c67f93b0e08",
   "metadata": {
    "tags": []
   },
   "outputs": [],
   "source": [
    "df = main_data[['Local Authority Name', 'Local Authority Code', 'MSOA Name',\n",
    "       'Middle Layer Super Output Area (MSOA) Code', 'LSOA Name',\n",
    "       'Lower Layer Super Output Area (LSOA) Code', 'coords',\n",
    "       'pct_electric', 'Average Energy Consumption per Person (kWh)']]"
   ]
  },
  {
   "cell_type": "code",
   "execution_count": 14,
   "id": "5d8149c4-4feb-4caf-b99b-da855661c061",
   "metadata": {
    "tags": []
   },
   "outputs": [],
   "source": [
    "df.columns = ['LA_name', 'LA', 'MSOA_ame',\n",
    "       'MSOA', 'LSOA_name',\n",
    "       'LSOA', 'coords',\n",
    "       'pct_electric', 'energy_consumption_per_person']"
   ]
  },
  {
   "cell_type": "code",
   "execution_count": 15,
   "id": "fb9bfea2-b1b4-4698-830e-890a594e7bcc",
   "metadata": {
    "tags": []
   },
   "outputs": [
    {
     "name": "stderr",
     "output_type": "stream",
     "text": [
      "/tmp/ipykernel_1971/1322134421.py:8: SettingWithCopyWarning: \n",
      "A value is trying to be set on a copy of a slice from a DataFrame.\n",
      "Try using .loc[row_indexer,col_indexer] = value instead\n",
      "\n",
      "See the caveats in the documentation: https://pandas.pydata.org/pandas-docs/stable/user_guide/indexing.html#returning-a-view-versus-a-copy\n",
      "  df[\"temperature\"] = [find_closest_temp_measurement(x) for x in df.coords]\n"
     ]
    }
   ],
   "source": [
    "# add temperature data\n",
    "coords =  [(lat, long) for lat, long in zip(temp_data.latitude, temp_data.longitude)]\n",
    "temp_dict = {co:t for co,t in zip(coords, temp_data.temperature)}\n",
    "\n",
    "def find_closest_temp_measurement(this_point):\n",
    "    return temp_dict[min(temp_dict.keys(), key=lambda x: geopy.distance.geodesic(this_point, x))]\n",
    "\n",
    "df[\"temperature\"] = [find_closest_temp_measurement(x) for x in df.coords]"
   ]
  },
  {
   "cell_type": "code",
   "execution_count": 16,
   "id": "698bd114-cd21-43fe-8f4d-9bdc8679b242",
   "metadata": {
    "tags": []
   },
   "outputs": [
    {
     "name": "stderr",
     "output_type": "stream",
     "text": [
      "/tmp/ipykernel_1971/605917991.py:2: SettingWithCopyWarning: \n",
      "A value is trying to be set on a copy of a slice from a DataFrame.\n",
      "Try using .loc[row_indexer,col_indexer] = value instead\n",
      "\n",
      "See the caveats in the documentation: https://pandas.pydata.org/pandas-docs/stable/user_guide/indexing.html#returning-a-view-versus-a-copy\n",
      "  df[\"energy_cost\"] = [ELECTRIC_PRICE_PER_KWH * x + GAS_PRICE_PER_KWH * (1-x) for x in df[\"pct_electric\"]]\n"
     ]
    }
   ],
   "source": [
    "# compute energy cost\n",
    "df[\"energy_cost\"] = [ELECTRIC_PRICE_PER_KWH * x + GAS_PRICE_PER_KWH * (1-x) for x in df[\"pct_electric\"]]"
   ]
  },
  {
   "cell_type": "code",
   "execution_count": 17,
   "id": "93287366-4e67-4489-ad68-5f20c9358116",
   "metadata": {
    "tags": []
   },
   "outputs": [],
   "source": [
    "# add income data\n",
    "income_data = pd.read_csv(\"../data/raw/net_income_after_housing_costs.csv\")\n",
    "income_data = income_data[[\"MSOA code\", \"Net annual income after housing costs (£)\"]].copy()\n",
    "income_data.columns = [\"MSOA\", \"net_income\"]\n",
    "df = df.merge(income_data, on=\"MSOA\", how=\"left\")"
   ]
  },
  {
   "cell_type": "code",
   "execution_count": 18,
   "id": "be831c72-c509-429b-8831-2e5cc90b83f0",
   "metadata": {
    "tags": []
   },
   "outputs": [
    {
     "data": {
      "text/plain": [
       "(33811, 12)"
      ]
     },
     "execution_count": 18,
     "metadata": {},
     "output_type": "execute_result"
    }
   ],
   "source": [
    "df.shape"
   ]
  },
  {
   "cell_type": "code",
   "execution_count": 19,
   "id": "bfcfc340-894f-4ebe-9e03-9dd4b3e8f1d0",
   "metadata": {
    "tags": []
   },
   "outputs": [],
   "source": [
    "# add green data\n",
    "voting_data = pd.read_csv(\"../data/raw/CBP09228_detailed_results_England_elections.csv\")\n",
    "voting_data[\"pct_green\"] = voting_data[\"Green\"] / voting_data[\"Total\"]\n",
    "voting_data[\"green_council\"] = voting_data[\"pct_green\"] >= 0.1\n",
    "voting_data = voting_data[[\"ONS code\", \"green_council\"]].copy()\n",
    "voting_data.columns = [\"LA\", \"politically_green\"]\n",
    "df = df.merge(voting_data, on=\"LA\", how=\"left\")"
   ]
  },
  {
   "cell_type": "code",
   "execution_count": 20,
   "id": "2e8f6eef-57a3-481a-808c-b7c52addc7e5",
   "metadata": {
    "tags": []
   },
   "outputs": [
    {
     "data": {
      "text/plain": [
       "(33811, 13)"
      ]
     },
     "execution_count": 20,
     "metadata": {},
     "output_type": "execute_result"
    }
   ],
   "source": [
    "df.shape"
   ]
  },
  {
   "cell_type": "code",
   "execution_count": 21,
   "id": "d0efa005-edf0-4647-a5c5-31f2bc1ca956",
   "metadata": {
    "tags": []
   },
   "outputs": [],
   "source": [
    "# add employment status\n",
    "economic_activity = pd.read_csv(\"../data/raw/economic_activity.csv\")\n",
    "economic_activity = economic_activity[[\"Area code\", \"Economically active: \\nIn employment \\n(including full-time students), \\n2021\\n(percent)\"]]\n",
    "economic_activity.columns = [\"LA\", \"pct_economically_active\"]\n",
    "df = df.merge(economic_activity, on=\"LA\", how=\"left\")"
   ]
  },
  {
   "cell_type": "code",
   "execution_count": 22,
   "id": "7c582d6c-8ed4-4875-8e45-2cdb1a3a19ae",
   "metadata": {
    "tags": []
   },
   "outputs": [
    {
     "data": {
      "text/plain": [
       "(33811, 14)"
      ]
     },
     "execution_count": 22,
     "metadata": {},
     "output_type": "execute_result"
    }
   ],
   "source": [
    "df.shape"
   ]
  },
  {
   "cell_type": "code",
   "execution_count": 23,
   "id": "658c4dbd-0f3e-4401-aaf7-2dca0a7edcbc",
   "metadata": {
    "tags": []
   },
   "outputs": [],
   "source": [
    "# add in building data\n",
    "households = pd.read_csv(\"../data/raw/RM202-Household-Size-By-Number-Of-Rooms-2021-lsoa-ONS.csv\")"
   ]
  },
  {
   "cell_type": "code",
   "execution_count": 24,
   "id": "993a20ad-3d3c-4533-88b4-2c8fceb44f9d",
   "metadata": {
    "tags": []
   },
   "outputs": [],
   "source": [
    "households.rename(columns={\"Lower layer Super Output Areas Code\": \"LSOA\"}, inplace=True)"
   ]
  },
  {
   "cell_type": "code",
   "execution_count": null,
   "id": "b3a15f4e-cd9f-4924-bf7d-d39f519bede0",
   "metadata": {},
   "outputs": [],
   "source": []
  },
  {
   "cell_type": "code",
   "execution_count": 26,
   "id": "f69f1777-9fcc-4a4a-a3ea-b0a8383c46b4",
   "metadata": {
    "tags": []
   },
   "outputs": [],
   "source": [
    "buildings1 = pd.read_csv(\"../data/raw/CTSOP_3_1_2021.csv\")"
   ]
  },
  {
   "cell_type": "code",
   "execution_count": 27,
   "id": "d98c998a-49e8-4cd5-a97c-9cd4eb7fb63c",
   "metadata": {
    "tags": []
   },
   "outputs": [
    {
     "data": {
      "text/html": [
       "<div>\n",
       "<style scoped>\n",
       "    .dataframe tbody tr th:only-of-type {\n",
       "        vertical-align: middle;\n",
       "    }\n",
       "\n",
       "    .dataframe tbody tr th {\n",
       "        vertical-align: top;\n",
       "    }\n",
       "\n",
       "    .dataframe thead th {\n",
       "        text-align: right;\n",
       "    }\n",
       "</style>\n",
       "<table border=\"1\" class=\"dataframe\">\n",
       "  <thead>\n",
       "    <tr style=\"text-align: right;\">\n",
       "      <th></th>\n",
       "      <th>geography</th>\n",
       "      <th>ba_code</th>\n",
       "      <th>ecode</th>\n",
       "      <th>area_name</th>\n",
       "      <th>band</th>\n",
       "      <th>bungalow_1</th>\n",
       "      <th>bungalow_2</th>\n",
       "      <th>bungalow_3</th>\n",
       "      <th>bungalow_4</th>\n",
       "      <th>bungalow_5</th>\n",
       "      <th>...</th>\n",
       "      <th>house_detached_3</th>\n",
       "      <th>house_detached_4</th>\n",
       "      <th>house_detached_5</th>\n",
       "      <th>house_detached_6</th>\n",
       "      <th>house_detached_unkw</th>\n",
       "      <th>house_detached_total</th>\n",
       "      <th>annexe</th>\n",
       "      <th>caravan_houseboat_mobilehome</th>\n",
       "      <th>unknown</th>\n",
       "      <th>all_properties</th>\n",
       "    </tr>\n",
       "  </thead>\n",
       "  <tbody>\n",
       "    <tr>\n",
       "      <th>0</th>\n",
       "      <td>ENGWAL</td>\n",
       "      <td>NaN</td>\n",
       "      <td>K04000001</td>\n",
       "      <td>ENGLAND AND WALES</td>\n",
       "      <td>All</td>\n",
       "      <td>282020</td>\n",
       "      <td>1201560</td>\n",
       "      <td>803420</td>\n",
       "      <td>144070</td>\n",
       "      <td>22830</td>\n",
       "      <td>...</td>\n",
       "      <td>1542460</td>\n",
       "      <td>1919150</td>\n",
       "      <td>405390</td>\n",
       "      <td>130620</td>\n",
       "      <td>21240</td>\n",
       "      <td>4214440</td>\n",
       "      <td>47540</td>\n",
       "      <td>120150</td>\n",
       "      <td>191250</td>\n",
       "      <td>26336420</td>\n",
       "    </tr>\n",
       "    <tr>\n",
       "      <th>1</th>\n",
       "      <td>ENGWAL</td>\n",
       "      <td>NaN</td>\n",
       "      <td>K04000001</td>\n",
       "      <td>ENGLAND AND WALES</td>\n",
       "      <td>A</td>\n",
       "      <td>180470</td>\n",
       "      <td>144340</td>\n",
       "      <td>17590</td>\n",
       "      <td>870</td>\n",
       "      <td>80</td>\n",
       "      <td>...</td>\n",
       "      <td>6430</td>\n",
       "      <td>1760</td>\n",
       "      <td>390</td>\n",
       "      <td>300</td>\n",
       "      <td>350</td>\n",
       "      <td>16960</td>\n",
       "      <td>41120</td>\n",
       "      <td>114850</td>\n",
       "      <td>55490</td>\n",
       "      <td>6208070</td>\n",
       "    </tr>\n",
       "    <tr>\n",
       "      <th>2</th>\n",
       "      <td>ENGWAL</td>\n",
       "      <td>NaN</td>\n",
       "      <td>K04000001</td>\n",
       "      <td>ENGLAND AND WALES</td>\n",
       "      <td>B</td>\n",
       "      <td>62550</td>\n",
       "      <td>270780</td>\n",
       "      <td>50690</td>\n",
       "      <td>3510</td>\n",
       "      <td>350</td>\n",
       "      <td>...</td>\n",
       "      <td>37800</td>\n",
       "      <td>4510</td>\n",
       "      <td>690</td>\n",
       "      <td>390</td>\n",
       "      <td>410</td>\n",
       "      <td>62790</td>\n",
       "      <td>4090</td>\n",
       "      <td>3990</td>\n",
       "      <td>27680</td>\n",
       "      <td>5171280</td>\n",
       "    </tr>\n",
       "    <tr>\n",
       "      <th>3</th>\n",
       "      <td>ENGWAL</td>\n",
       "      <td>NaN</td>\n",
       "      <td>K04000001</td>\n",
       "      <td>ENGLAND AND WALES</td>\n",
       "      <td>C</td>\n",
       "      <td>26520</td>\n",
       "      <td>404230</td>\n",
       "      <td>201400</td>\n",
       "      <td>17000</td>\n",
       "      <td>1970</td>\n",
       "      <td>...</td>\n",
       "      <td>336180</td>\n",
       "      <td>51200</td>\n",
       "      <td>3830</td>\n",
       "      <td>1080</td>\n",
       "      <td>1410</td>\n",
       "      <td>437110</td>\n",
       "      <td>1390</td>\n",
       "      <td>880</td>\n",
       "      <td>29840</td>\n",
       "      <td>5755600</td>\n",
       "    </tr>\n",
       "    <tr>\n",
       "      <th>4</th>\n",
       "      <td>ENGWAL</td>\n",
       "      <td>NaN</td>\n",
       "      <td>K04000001</td>\n",
       "      <td>ENGLAND AND WALES</td>\n",
       "      <td>D</td>\n",
       "      <td>8170</td>\n",
       "      <td>246320</td>\n",
       "      <td>263150</td>\n",
       "      <td>29970</td>\n",
       "      <td>3520</td>\n",
       "      <td>...</td>\n",
       "      <td>522920</td>\n",
       "      <td>377270</td>\n",
       "      <td>17870</td>\n",
       "      <td>3210</td>\n",
       "      <td>3090</td>\n",
       "      <td>979590</td>\n",
       "      <td>580</td>\n",
       "      <td>200</td>\n",
       "      <td>24780</td>\n",
       "      <td>4105070</td>\n",
       "    </tr>\n",
       "    <tr>\n",
       "      <th>...</th>\n",
       "      <td>...</td>\n",
       "      <td>...</td>\n",
       "      <td>...</td>\n",
       "      <td>...</td>\n",
       "      <td>...</td>\n",
       "      <td>...</td>\n",
       "      <td>...</td>\n",
       "      <td>...</td>\n",
       "      <td>...</td>\n",
       "      <td>...</td>\n",
       "      <td>...</td>\n",
       "      <td>...</td>\n",
       "      <td>...</td>\n",
       "      <td>...</td>\n",
       "      <td>...</td>\n",
       "      <td>...</td>\n",
       "      <td>...</td>\n",
       "      <td>...</td>\n",
       "      <td>...</td>\n",
       "      <td>...</td>\n",
       "      <td>...</td>\n",
       "    </tr>\n",
       "    <tr>\n",
       "      <th>392153</th>\n",
       "      <td>UNMD</td>\n",
       "      <td>NaN</td>\n",
       "      <td>UNMATCHED</td>\n",
       "      <td>UNMATCHED</td>\n",
       "      <td>E</td>\n",
       "      <td>-</td>\n",
       "      <td>20</td>\n",
       "      <td>120</td>\n",
       "      <td>10</td>\n",
       "      <td>-</td>\n",
       "      <td>...</td>\n",
       "      <td>150</td>\n",
       "      <td>230</td>\n",
       "      <td>40</td>\n",
       "      <td>10</td>\n",
       "      <td>-</td>\n",
       "      <td>450</td>\n",
       "      <td>0</td>\n",
       "      <td>0</td>\n",
       "      <td>20</td>\n",
       "      <td>860</td>\n",
       "    </tr>\n",
       "    <tr>\n",
       "      <th>392154</th>\n",
       "      <td>UNMD</td>\n",
       "      <td>NaN</td>\n",
       "      <td>UNMATCHED</td>\n",
       "      <td>UNMATCHED</td>\n",
       "      <td>F</td>\n",
       "      <td>0</td>\n",
       "      <td>10</td>\n",
       "      <td>30</td>\n",
       "      <td>20</td>\n",
       "      <td>-</td>\n",
       "      <td>...</td>\n",
       "      <td>60</td>\n",
       "      <td>190</td>\n",
       "      <td>70</td>\n",
       "      <td>10</td>\n",
       "      <td>-</td>\n",
       "      <td>340</td>\n",
       "      <td>0</td>\n",
       "      <td>0</td>\n",
       "      <td>20</td>\n",
       "      <td>550</td>\n",
       "    </tr>\n",
       "    <tr>\n",
       "      <th>392155</th>\n",
       "      <td>UNMD</td>\n",
       "      <td>NaN</td>\n",
       "      <td>UNMATCHED</td>\n",
       "      <td>UNMATCHED</td>\n",
       "      <td>G</td>\n",
       "      <td>-</td>\n",
       "      <td>0</td>\n",
       "      <td>10</td>\n",
       "      <td>10</td>\n",
       "      <td>-</td>\n",
       "      <td>...</td>\n",
       "      <td>30</td>\n",
       "      <td>90</td>\n",
       "      <td>90</td>\n",
       "      <td>30</td>\n",
       "      <td>-</td>\n",
       "      <td>240</td>\n",
       "      <td>0</td>\n",
       "      <td>0</td>\n",
       "      <td>10</td>\n",
       "      <td>350</td>\n",
       "    </tr>\n",
       "    <tr>\n",
       "      <th>392156</th>\n",
       "      <td>UNMD</td>\n",
       "      <td>NaN</td>\n",
       "      <td>UNMATCHED</td>\n",
       "      <td>UNMATCHED</td>\n",
       "      <td>H</td>\n",
       "      <td>0</td>\n",
       "      <td>0</td>\n",
       "      <td>0</td>\n",
       "      <td>-</td>\n",
       "      <td>-</td>\n",
       "      <td>...</td>\n",
       "      <td>-</td>\n",
       "      <td>10</td>\n",
       "      <td>10</td>\n",
       "      <td>30</td>\n",
       "      <td>-</td>\n",
       "      <td>50</td>\n",
       "      <td>0</td>\n",
       "      <td>0</td>\n",
       "      <td>10</td>\n",
       "      <td>80</td>\n",
       "    </tr>\n",
       "    <tr>\n",
       "      <th>392157</th>\n",
       "      <td>UNMD</td>\n",
       "      <td>NaN</td>\n",
       "      <td>UNMATCHED</td>\n",
       "      <td>UNMATCHED</td>\n",
       "      <td>I</td>\n",
       "      <td>0</td>\n",
       "      <td>0</td>\n",
       "      <td>0</td>\n",
       "      <td>0</td>\n",
       "      <td>-</td>\n",
       "      <td>...</td>\n",
       "      <td>-</td>\n",
       "      <td>-</td>\n",
       "      <td>-</td>\n",
       "      <td>-</td>\n",
       "      <td>0</td>\n",
       "      <td>10</td>\n",
       "      <td>0</td>\n",
       "      <td>0</td>\n",
       "      <td>-</td>\n",
       "      <td>20</td>\n",
       "    </tr>\n",
       "  </tbody>\n",
       "</table>\n",
       "<p>392158 rows × 49 columns</p>\n",
       "</div>"
      ],
      "text/plain": [
       "       geography  ba_code      ecode          area_name band bungalow_1  \\\n",
       "0         ENGWAL      NaN  K04000001  ENGLAND AND WALES  All     282020   \n",
       "1         ENGWAL      NaN  K04000001  ENGLAND AND WALES    A     180470   \n",
       "2         ENGWAL      NaN  K04000001  ENGLAND AND WALES    B      62550   \n",
       "3         ENGWAL      NaN  K04000001  ENGLAND AND WALES    C      26520   \n",
       "4         ENGWAL      NaN  K04000001  ENGLAND AND WALES    D       8170   \n",
       "...          ...      ...        ...                ...  ...        ...   \n",
       "392153      UNMD      NaN  UNMATCHED          UNMATCHED    E          -   \n",
       "392154      UNMD      NaN  UNMATCHED          UNMATCHED    F          0   \n",
       "392155      UNMD      NaN  UNMATCHED          UNMATCHED    G          -   \n",
       "392156      UNMD      NaN  UNMATCHED          UNMATCHED    H          0   \n",
       "392157      UNMD      NaN  UNMATCHED          UNMATCHED    I          0   \n",
       "\n",
       "       bungalow_2 bungalow_3 bungalow_4 bungalow_5  ... house_detached_3  \\\n",
       "0         1201560     803420     144070      22830  ...          1542460   \n",
       "1          144340      17590        870         80  ...             6430   \n",
       "2          270780      50690       3510        350  ...            37800   \n",
       "3          404230     201400      17000       1970  ...           336180   \n",
       "4          246320     263150      29970       3520  ...           522920   \n",
       "...           ...        ...        ...        ...  ...              ...   \n",
       "392153         20        120         10          -  ...              150   \n",
       "392154         10         30         20          -  ...               60   \n",
       "392155          0         10         10          -  ...               30   \n",
       "392156          0          0          -          -  ...                -   \n",
       "392157          0          0          0          -  ...                -   \n",
       "\n",
       "       house_detached_4 house_detached_5 house_detached_6 house_detached_unkw  \\\n",
       "0               1919150           405390           130620               21240   \n",
       "1                  1760              390              300                 350   \n",
       "2                  4510              690              390                 410   \n",
       "3                 51200             3830             1080                1410   \n",
       "4                377270            17870             3210                3090   \n",
       "...                 ...              ...              ...                 ...   \n",
       "392153              230               40               10                   -   \n",
       "392154              190               70               10                   -   \n",
       "392155               90               90               30                   -   \n",
       "392156               10               10               30                   -   \n",
       "392157                -                -                -                   0   \n",
       "\n",
       "       house_detached_total annexe caravan_houseboat_mobilehome unknown  \\\n",
       "0                   4214440  47540                       120150  191250   \n",
       "1                     16960  41120                       114850   55490   \n",
       "2                     62790   4090                         3990   27680   \n",
       "3                    437110   1390                          880   29840   \n",
       "4                    979590    580                          200   24780   \n",
       "...                     ...    ...                          ...     ...   \n",
       "392153                  450      0                            0      20   \n",
       "392154                  340      0                            0      20   \n",
       "392155                  240      0                            0      10   \n",
       "392156                   50      0                            0      10   \n",
       "392157                   10      0                            0       -   \n",
       "\n",
       "       all_properties  \n",
       "0            26336420  \n",
       "1             6208070  \n",
       "2             5171280  \n",
       "3             5755600  \n",
       "4             4105070  \n",
       "...               ...  \n",
       "392153            860  \n",
       "392154            550  \n",
       "392155            350  \n",
       "392156             80  \n",
       "392157             20  \n",
       "\n",
       "[392158 rows x 49 columns]"
      ]
     },
     "execution_count": 27,
     "metadata": {},
     "output_type": "execute_result"
    }
   ],
   "source": [
    "buildings1"
   ]
  },
  {
   "cell_type": "code",
   "execution_count": 28,
   "id": "ae7519ca-25ec-46e8-b5c1-cc0e9aa5f4e5",
   "metadata": {
    "tags": []
   },
   "outputs": [],
   "source": [
    "buildings2 = pd.read_csv(\"../data/raw/CTSOP_4_1_2021.csv\")"
   ]
  },
  {
   "cell_type": "code",
   "execution_count": 30,
   "id": "31d7e24c-4eb5-4990-8115-bfe0dedb853e",
   "metadata": {
    "tags": []
   },
   "outputs": [
    {
     "data": {
      "text/plain": [
       "Index(['geography', 'ba_code', 'ecode', 'area_name', 'band', 'bp_pre_1900',\n",
       "       'bp_1900_1918', 'bp_1919_1929', 'bp_1930_1939', 'bp_1945_1954',\n",
       "       'bp_1955_1964', 'bp_1965_1972', 'bp_1973_1982', 'bp_1983_1992',\n",
       "       'bp_1993_1999', 'bp_2000_2008', 'bp_2009', 'bp_2010', 'bp_2011',\n",
       "       'bp_2012', 'bp_2013', 'bp_2014', 'bp_2015', 'bp_2016', 'bp_2017',\n",
       "       'bp_2018', 'bp_2019', 'bp_2020', 'bp_2021', 'bp_2022_2023', 'bp_unkw',\n",
       "       'all_properties'],\n",
       "      dtype='object')"
      ]
     },
     "execution_count": 30,
     "metadata": {},
     "output_type": "execute_result"
    }
   ],
   "source": [
    "buildings2.columns"
   ]
  },
  {
   "cell_type": "code",
   "execution_count": null,
   "id": "4614ebf6-2bc7-45b2-a245-187b223c9c7f",
   "metadata": {},
   "outputs": [],
   "source": []
  },
  {
   "cell_type": "markdown",
   "id": "be0bbfd3-e40f-4c67-9a5f-621eb71eb042",
   "metadata": {},
   "source": [
    "## 2. Analysis"
   ]
  },
  {
   "cell_type": "code",
   "execution_count": null,
   "id": "590daa38-2cb8-4bf7-ac55-f3365b8a51f1",
   "metadata": {},
   "outputs": [],
   "source": []
  },
  {
   "cell_type": "code",
   "execution_count": null,
   "id": "2ef468b3-d1dd-4710-a0aa-eff682dc94e6",
   "metadata": {},
   "outputs": [],
   "source": []
  },
  {
   "cell_type": "markdown",
   "id": "ba7944d0-e82c-4d30-bc11-78419c09378c",
   "metadata": {},
   "source": [
    "## 3. Modelling"
   ]
  },
  {
   "cell_type": "code",
   "execution_count": null,
   "id": "320d898a-1387-4420-a4fc-82be6c2528c2",
   "metadata": {},
   "outputs": [],
   "source": []
  }
 ],
 "metadata": {
  "kernelspec": {
   "display_name": "Python 3.11",
   "language": "python",
   "name": "py311"
  },
  "language_info": {
   "codemirror_mode": {
    "name": "ipython",
    "version": 3
   },
   "file_extension": ".py",
   "mimetype": "text/x-python",
   "name": "python",
   "nbconvert_exporter": "python",
   "pygments_lexer": "ipython3",
   "version": "3.11.9"
  }
 },
 "nbformat": 4,
 "nbformat_minor": 5
}
