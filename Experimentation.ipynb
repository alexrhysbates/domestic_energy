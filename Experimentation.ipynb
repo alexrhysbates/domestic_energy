{
 "cells": [
  {
   "cell_type": "markdown",
   "id": "cbbdb99a-f7f8-4b0e-83aa-c67ad5edfab4",
   "metadata": {},
   "source": [
    "# Experimenting with possible approaches"
   ]
  },
  {
   "cell_type": "code",
   "execution_count": 1,
   "id": "1ffe27c8-e1a6-4ad6-99fe-bb0fec41edeb",
   "metadata": {
    "tags": []
   },
   "outputs": [
    {
     "name": "stdout",
     "output_type": "stream",
     "text": [
      "\u001b[31mERROR: Could not open requirements file: [Errno 2] No such file or directory: '../requirements.txt'\u001b[0m\u001b[31m\n",
      "\u001b[0m"
     ]
    }
   ],
   "source": [
    "!pip install -r ../requirements.txt"
   ]
  },
  {
   "cell_type": "markdown",
   "id": "49f3b280-c5d9-4ca6-9a6e-803d16dfb772",
   "metadata": {},
   "source": [
    "## Imports"
   ]
  },
  {
   "cell_type": "code",
   "execution_count": 2,
   "id": "398e8cc8-d1fb-4ad0-adc4-89a89e9d3709",
   "metadata": {
    "tags": []
   },
   "outputs": [],
   "source": [
    "import numpy as np\n",
    "import pandas as pd\n",
    "import pymc as pm\n",
    "import geopy.distance"
   ]
  },
  {
   "cell_type": "markdown",
   "id": "0c4829fa-3f28-4534-a2b5-40cbbe13a941",
   "metadata": {},
   "source": [
    "## 1. Data compilation"
   ]
  },
  {
   "cell_type": "code",
   "execution_count": 3,
   "id": "fa1ae350-379a-4b8a-8096-4f04806a6d69",
   "metadata": {
    "tags": []
   },
   "outputs": [],
   "source": [
    "# assumptions\n",
    "# source - https://www.icaew.com/insights/viewpoints-on-the-news/2022/sept-2022/chart-of-the-week-energy-price-cap-update\n",
    "GAS_PRICE_PER_KWH = 3.3\n",
    "ELECTRIC_PRICE_PER_KWH = 19.0 "
   ]
  },
  {
   "cell_type": "code",
   "execution_count": 4,
   "id": "2052d64a-2503-493b-857b-df8a13d1d40e",
   "metadata": {
    "tags": []
   },
   "outputs": [],
   "source": [
    "# look at the headline dataset of consumption by LSOA\n",
    "main_data = pd.read_csv(\"data/LSOA Energy Consumption Data.csv\")"
   ]
  },
  {
   "cell_type": "code",
   "execution_count": 5,
   "id": "960c30fc-85e6-4c82-b61b-c71ac7916568",
   "metadata": {
    "tags": []
   },
   "outputs": [
    {
     "data": {
      "text/plain": [
       "(33811, 21)"
      ]
     },
     "execution_count": 5,
     "metadata": {},
     "output_type": "execute_result"
    }
   ],
   "source": [
    "main_data.shape"
   ]
  },
  {
   "cell_type": "code",
   "execution_count": 6,
   "id": "8eeb6bfc-85c9-4db4-9097-7fa73c548172",
   "metadata": {
    "tags": []
   },
   "outputs": [
    {
     "data": {
      "text/plain": [
       "33811"
      ]
     },
     "execution_count": 6,
     "metadata": {},
     "output_type": "execute_result"
    }
   ],
   "source": [
    "main_data['Lower Layer Super Output Area (LSOA) Code'].nunique()"
   ]
  },
  {
   "cell_type": "code",
   "execution_count": 11,
   "id": "023fe03b-9409-4572-8eac-056c7bc69aef",
   "metadata": {
    "tags": []
   },
   "outputs": [],
   "source": [
    "# Library to work with netCDF files\n",
    "from netCDF4 import Dataset\n",
    "\n",
    "file_name = \"data/tas_hadukgrid_uk_60km_ann_202101-202112.nc\"\n",
    "file_id = Dataset(file_name)\n",
    "\n",
    "latitude = file_id.variables[\"latitude\"][:,:]\n",
    "longitude = file_id.variables[\"longitude\"][:,:]\n",
    "temps = file_id.variables[\"tas\"][:,:]\n",
    "\n",
    "lats = [np.mean(x) for x in latitude]\n",
    "longs = [np.mean(x) for x in longitude] \n",
    "ts = [np.mean(x) for x in temps[0]]\n",
    "temp_data = pd.DataFrame({\"latitude\": lats,\n",
    "                          \"longitude\": longs,\n",
    "                          \"temperature\": ts}\n",
    "                        )\n",
    "\n",
    "temp_data = temp_data[temp_data.temperature > 0]"
   ]
  },
  {
   "cell_type": "markdown",
   "id": "28054fd7-020e-48ac-ab74-fe480b78a750",
   "metadata": {},
   "source": [
    "### Combining and generating features"
   ]
  },
  {
   "cell_type": "code",
   "execution_count": 13,
   "id": "30d30fee-8cff-4dae-bcbb-6c67f93b0e08",
   "metadata": {
    "tags": []
   },
   "outputs": [],
   "source": [
    "# feature generation\n",
    "main_data[\"pct_electric\"] = main_data['Electricity Consumption (kWh)'] / main_data['Total Energy Consumption (kWh)']\n",
    "main_data[\"coords\"] = [(lat, long) for lat, long in zip(main_data.Latitude, main_data.Longitude)]\n",
    "\n",
    "df = main_data[['Local Authority Name', 'Local Authority Code', 'MSOA Name',\n",
    "       'Middle Layer Super Output Area (MSOA) Code', 'LSOA Name',\n",
    "       'Lower Layer Super Output Area (LSOA) Code', 'coords',\n",
    "       'pct_electric', 'Average Energy Consumption per Person (kWh)']]\n",
    "\n",
    "df.columns = ['LA_name', 'LA', 'MSOA_ame',\n",
    "       'MSOA', 'LSOA_name',\n",
    "       'LSOA', 'coords',\n",
    "       'pct_electric', 'energy_consumption_per_person']"
   ]
  },
  {
   "cell_type": "code",
   "execution_count": 35,
   "id": "960d6b07-a880-4dd7-a866-787bd860bc2f",
   "metadata": {
    "tags": []
   },
   "outputs": [
    {
     "data": {
      "text/plain": [
       "[(49.006341737877655, -3.7734278198507476),\n",
       " (49.54449813888834, -3.792737447518625),\n",
       " (50.082569071478424, -3.812630309295943),\n",
       " (50.62055323102576, -3.8331293263161883),\n",
       " (51.15844925067594, -3.8542586753822228),\n",
       " (51.69625569571884, -3.876043874627027),\n",
       " (52.233971057493775, -3.898511876267551),\n",
       " (52.77159374677694, -3.9216911671417876),\n",
       " (53.309122086599764, -3.945611877796649),\n",
       " (53.84655430444121, -3.970305900981369),\n",
       " (54.38388852372945, -3.995807020499611),\n",
       " (54.92112275458157, -4.022151051484733),\n",
       " (55.458254883700604, -4.049375993288645),\n",
       " (55.99528266333978, -4.0775221963176405),\n",
       " (56.5322036992321, -4.106632544310854),\n",
       " (57.06901543737092, -4.136752653741774),\n",
       " (57.60571514951215, -4.167931092233809),\n",
       " (58.142299917252004, -4.200219618121363),\n",
       " (58.6787666145142, -4.233673443562959),\n",
       " (59.21511188825929, -4.26835152392834),\n",
       " (59.75133213720162, -4.304316876543453),\n",
       " (60.2874234882904, -4.34163693229389),\n",
       " (60.82338177067651, -4.380383924067725)]"
      ]
     },
     "execution_count": 35,
     "metadata": {},
     "output_type": "execute_result"
    }
   ],
   "source": [
    "list(zip(lats, longs))"
   ]
  },
  {
   "cell_type": "code",
   "execution_count": 15,
   "id": "fb9bfea2-b1b4-4698-830e-890a594e7bcc",
   "metadata": {
    "tags": []
   },
   "outputs": [
    {
     "name": "stderr",
     "output_type": "stream",
     "text": [
      "/tmp/ipykernel_2710/1322134421.py:8: SettingWithCopyWarning: \n",
      "A value is trying to be set on a copy of a slice from a DataFrame.\n",
      "Try using .loc[row_indexer,col_indexer] = value instead\n",
      "\n",
      "See the caveats in the documentation: https://pandas.pydata.org/pandas-docs/stable/user_guide/indexing.html#returning-a-view-versus-a-copy\n",
      "  df[\"temperature\"] = [find_closest_temp_measurement(x) for x in df.coords]\n"
     ]
    }
   ],
   "source": [
    "# add temperature data\n",
    "coords =  [(lat, long) for lat, long in zip(temp_data.latitude, temp_data.longitude)]\n",
    "temp_dict = {co:t for co,t in zip(coords, temp_data.temperature)}\n",
    "\n",
    "def find_closest_temp_measurement(this_point):\n",
    "    return temp_dict[min(temp_dict.keys(), key=lambda x: geopy.distance.geodesic(this_point, x))]\n",
    "\n",
    "df[\"temperature\"] = [find_closest_temp_measurement(x) for x in df.coords]"
   ]
  },
  {
   "cell_type": "code",
   "execution_count": 16,
   "id": "698bd114-cd21-43fe-8f4d-9bdc8679b242",
   "metadata": {
    "tags": []
   },
   "outputs": [
    {
     "name": "stderr",
     "output_type": "stream",
     "text": [
      "/tmp/ipykernel_2710/605917991.py:2: SettingWithCopyWarning: \n",
      "A value is trying to be set on a copy of a slice from a DataFrame.\n",
      "Try using .loc[row_indexer,col_indexer] = value instead\n",
      "\n",
      "See the caveats in the documentation: https://pandas.pydata.org/pandas-docs/stable/user_guide/indexing.html#returning-a-view-versus-a-copy\n",
      "  df[\"energy_cost\"] = [ELECTRIC_PRICE_PER_KWH * x + GAS_PRICE_PER_KWH * (1-x) for x in df[\"pct_electric\"]]\n"
     ]
    }
   ],
   "source": [
    "# compute energy cost\n",
    "df[\"energy_cost\"] = [ELECTRIC_PRICE_PER_KWH * x + GAS_PRICE_PER_KWH * (1-x) for x in df[\"pct_electric\"]]"
   ]
  },
  {
   "cell_type": "code",
   "execution_count": 17,
   "id": "93287366-4e67-4489-ad68-5f20c9358116",
   "metadata": {
    "tags": []
   },
   "outputs": [],
   "source": [
    "# add income data\n",
    "income_data = pd.read_csv(\"data/net_income_after_housing_costs.csv\")\n",
    "income_data = income_data[[\"MSOA code\", \"Net annual income after housing costs (£)\"]].copy()\n",
    "income_data.columns = [\"MSOA\", \"net_income\"]\n",
    "df = df.merge(income_data, on=\"MSOA\", how=\"left\")"
   ]
  },
  {
   "cell_type": "code",
   "execution_count": 36,
   "id": "2f26a110-557a-4fba-9041-53494c115802",
   "metadata": {
    "tags": []
   },
   "outputs": [
    {
     "data": {
      "text/html": [
       "<div>\n",
       "<style scoped>\n",
       "    .dataframe tbody tr th:only-of-type {\n",
       "        vertical-align: middle;\n",
       "    }\n",
       "\n",
       "    .dataframe tbody tr th {\n",
       "        vertical-align: top;\n",
       "    }\n",
       "\n",
       "    .dataframe thead th {\n",
       "        text-align: right;\n",
       "    }\n",
       "</style>\n",
       "<table border=\"1\" class=\"dataframe\">\n",
       "  <thead>\n",
       "    <tr style=\"text-align: right;\">\n",
       "      <th></th>\n",
       "      <th>MSOA</th>\n",
       "      <th>net_income</th>\n",
       "    </tr>\n",
       "  </thead>\n",
       "  <tbody>\n",
       "    <tr>\n",
       "      <th>0</th>\n",
       "      <td>E02004297</td>\n",
       "      <td>27,700</td>\n",
       "    </tr>\n",
       "    <tr>\n",
       "      <th>1</th>\n",
       "      <td>E02004290</td>\n",
       "      <td>28,600</td>\n",
       "    </tr>\n",
       "    <tr>\n",
       "      <th>2</th>\n",
       "      <td>E02004298</td>\n",
       "      <td>31,400</td>\n",
       "    </tr>\n",
       "    <tr>\n",
       "      <th>3</th>\n",
       "      <td>E02004299</td>\n",
       "      <td>25,000</td>\n",
       "    </tr>\n",
       "    <tr>\n",
       "      <th>4</th>\n",
       "      <td>E02004291</td>\n",
       "      <td>23,800</td>\n",
       "    </tr>\n",
       "    <tr>\n",
       "      <th>...</th>\n",
       "      <td>...</td>\n",
       "      <td>...</td>\n",
       "    </tr>\n",
       "    <tr>\n",
       "      <th>7196</th>\n",
       "      <td>W02000362</td>\n",
       "      <td>29,300</td>\n",
       "    </tr>\n",
       "    <tr>\n",
       "      <th>7197</th>\n",
       "      <td>W02000363</td>\n",
       "      <td>24,000</td>\n",
       "    </tr>\n",
       "    <tr>\n",
       "      <th>7198</th>\n",
       "      <td>W02000364</td>\n",
       "      <td>20,300</td>\n",
       "    </tr>\n",
       "    <tr>\n",
       "      <th>7199</th>\n",
       "      <td>W02000365</td>\n",
       "      <td>21,700</td>\n",
       "    </tr>\n",
       "    <tr>\n",
       "      <th>7200</th>\n",
       "      <td>W02000366</td>\n",
       "      <td>32,200</td>\n",
       "    </tr>\n",
       "  </tbody>\n",
       "</table>\n",
       "<p>7201 rows × 2 columns</p>\n",
       "</div>"
      ],
      "text/plain": [
       "           MSOA net_income\n",
       "0     E02004297    27,700 \n",
       "1     E02004290    28,600 \n",
       "2     E02004298    31,400 \n",
       "3     E02004299    25,000 \n",
       "4     E02004291    23,800 \n",
       "...         ...        ...\n",
       "7196  W02000362    29,300 \n",
       "7197  W02000363    24,000 \n",
       "7198  W02000364    20,300 \n",
       "7199  W02000365    21,700 \n",
       "7200  W02000366    32,200 \n",
       "\n",
       "[7201 rows x 2 columns]"
      ]
     },
     "execution_count": 36,
     "metadata": {},
     "output_type": "execute_result"
    }
   ],
   "source": [
    "income_data"
   ]
  },
  {
   "cell_type": "code",
   "execution_count": 18,
   "id": "be831c72-c509-429b-8831-2e5cc90b83f0",
   "metadata": {
    "tags": []
   },
   "outputs": [
    {
     "data": {
      "text/plain": [
       "(33811, 12)"
      ]
     },
     "execution_count": 18,
     "metadata": {},
     "output_type": "execute_result"
    }
   ],
   "source": [
    "df.shape"
   ]
  },
  {
   "cell_type": "code",
   "execution_count": 19,
   "id": "bfcfc340-894f-4ebe-9e03-9dd4b3e8f1d0",
   "metadata": {
    "tags": []
   },
   "outputs": [],
   "source": [
    "# add green data\n",
    "voting_data = pd.read_csv(\"data/CBP09228_detailed_results_England_elections.csv\")\n",
    "voting_data[\"pct_green\"] = voting_data[\"Green\"] / voting_data[\"Total\"]\n",
    "voting_data[\"green_council\"] = voting_data[\"pct_green\"] >= 0.1\n",
    "voting_data = voting_data[[\"ONS code\", \"green_council\"]].copy()\n",
    "voting_data.columns = [\"LA\", \"politically_green\"]\n",
    "df = df.merge(voting_data, on=\"LA\", how=\"left\")"
   ]
  },
  {
   "cell_type": "code",
   "execution_count": 20,
   "id": "2e8f6eef-57a3-481a-808c-b7c52addc7e5",
   "metadata": {
    "tags": []
   },
   "outputs": [
    {
     "data": {
      "text/plain": [
       "(33811, 13)"
      ]
     },
     "execution_count": 20,
     "metadata": {},
     "output_type": "execute_result"
    }
   ],
   "source": [
    "df.shape"
   ]
  },
  {
   "cell_type": "code",
   "execution_count": 21,
   "id": "d0efa005-edf0-4647-a5c5-31f2bc1ca956",
   "metadata": {
    "tags": []
   },
   "outputs": [],
   "source": [
    "# add employment status\n",
    "economic_activity = pd.read_csv(\"data/economic_activity.csv\")\n",
    "economic_activity = economic_activity[[\"Area code\", \"Economically active: \\nIn employment \\n(including full-time students), \\n2021\\n(percent)\"]]\n",
    "economic_activity.columns = [\"LA\", \"pct_economically_active\"]\n",
    "df = df.merge(economic_activity, on=\"LA\", how=\"left\")"
   ]
  },
  {
   "cell_type": "code",
   "execution_count": 22,
   "id": "7c582d6c-8ed4-4875-8e45-2cdb1a3a19ae",
   "metadata": {
    "tags": []
   },
   "outputs": [
    {
     "data": {
      "text/plain": [
       "(33811, 14)"
      ]
     },
     "execution_count": 22,
     "metadata": {},
     "output_type": "execute_result"
    }
   ],
   "source": [
    "df.shape"
   ]
  },
  {
   "cell_type": "code",
   "execution_count": 23,
   "id": "658c4dbd-0f3e-4401-aaf7-2dca0a7edcbc",
   "metadata": {
    "tags": []
   },
   "outputs": [],
   "source": [
    "# add in home occupancy data\n",
    "households = pd.read_csv(\"data/RM202-Household-Size-By-Number-Of-Rooms-2021-lsoa-ONS.csv\")\n",
    "households.rename(columns={\"Lower layer Super Output Areas Code\": \"LSOA\"}, inplace=True)\n",
    "households[\"pct_home_occupancy\"] = households[\"Household size (5 categories) Code\"] / households[\"Number of rooms (Valuation Office Agency) (6 categories) Code\"]\n",
    "households[\"pct_home_occupancy_x_obs\"] = households[\"pct_home_occupancy\"] * households[\"Observation\"]\n",
    "households[\"home_size_x_obs\"] = households[\"Number of rooms (Valuation Office Agency) (6 categories) Code\"] * households[\"Observation\"]\n",
    "totals = households.groupby(\"LSOA\")[[\"pct_home_occupancy_x_obs\", \"home_size_x_obs\", \"Observation\"]].sum().reset_index()\n",
    "totals[\"home_size\"] = totals[\"home_size_x_obs\"] / totals[\"Observation\"]\n",
    "totals[\"pct_home_occupancy\"] = totals[\"pct_home_occupancy_x_obs\"] / totals[\"Observation\"]\n",
    "totals = totals[[\"LSOA\", \"home_size\", \"pct_home_occupancy\"]]\n",
    "df = df.merge(totals, on=\"LSOA\", how=\"left\")"
   ]
  },
  {
   "cell_type": "code",
   "execution_count": 24,
   "id": "ad11c882-2e5a-4321-8f67-f07e71821732",
   "metadata": {
    "tags": []
   },
   "outputs": [
    {
     "data": {
      "text/plain": [
       "(33811, 16)"
      ]
     },
     "execution_count": 24,
     "metadata": {},
     "output_type": "execute_result"
    }
   ],
   "source": [
    "df.shape"
   ]
  },
  {
   "cell_type": "code",
   "execution_count": 25,
   "id": "f69f1777-9fcc-4a4a-a3ea-b0a8383c46b4",
   "metadata": {
    "tags": []
   },
   "outputs": [],
   "source": [
    "# add in building type - go for pct detatched\n",
    "buildings1 = pd.read_csv(\"data/CTSOP_3_1_2021.csv\")\n",
    "buildings1 = buildings1[(buildings1.geography == \"LSOA\") & (buildings1.band == \"All\")]\n",
    "buildings1 = buildings1[[\"ecode\", \"bungalow_total\", \"flat_mais_total\", \"house_terraced_total\",\n",
    "                         \"house_semi_total\", \"house_detached_total\", \"all_properties\"]]\n",
    "buildings1 = buildings1.replace(\"-\",\"0\")\n",
    "\n",
    "# num exposed surfaces\n",
    "exposed_surfaces_per_type = {\n",
    "    \"bungalow_total\": 5,\n",
    "    \"flat_mais_total\": 2,\n",
    "    \"house_terraced_total\": 3,\n",
    "    \"house_semi_total\": 4,\n",
    "    \"house_detached_total\": 5\n",
    "}\n",
    "\n",
    "buildings1[list(exposed_surfaces_per_type.keys())] = buildings1[exposed_surfaces_per_type.keys()].astype(int)\n",
    "total_exposed_surfaces = buildings1[list(exposed_surfaces_per_type.keys())].mul(exposed_surfaces_per_type).sum(axis=1)\n",
    "buildings1[\"home_exposed_surfaces\"]  = [x / int(y) for x,y in zip(total_exposed_surfaces,  buildings1[\"all_properties\"])]\n",
    "buildings1 = buildings1[[\"ecode\", \"home_exposed_surfaces\"]]\n",
    "buildings1.columns = [\"LSOA\", \"home_exposed_surfaces\"]\n",
    "\n",
    "df = df.merge(buildings1, on=\"LSOA\", how=\"left\")"
   ]
  },
  {
   "cell_type": "code",
   "execution_count": 26,
   "id": "a65692b9-f732-4cc7-a207-3aff596c26dd",
   "metadata": {
    "tags": []
   },
   "outputs": [
    {
     "data": {
      "text/plain": [
       "(33811, 17)"
      ]
     },
     "execution_count": 26,
     "metadata": {},
     "output_type": "execute_result"
    }
   ],
   "source": [
    "df.shape"
   ]
  },
  {
   "cell_type": "code",
   "execution_count": 27,
   "id": "ae7519ca-25ec-46e8-b5c1-cc0e9aa5f4e5",
   "metadata": {
    "tags": []
   },
   "outputs": [],
   "source": [
    "# add in building age\n",
    "buildings2 = pd.read_csv(\"data/CTSOP_4_1_2021.csv\")\n",
    "buildings2 = buildings2[(buildings2.geography == \"LSOA\") & (buildings2.band == \"All\")]\n",
    "buildings2 = buildings2.replace(\"-\",\"0\")\n",
    "\n",
    "build_dates = {\n",
    "    'bp_pre_1900': 1900,\n",
    "    'bp_1900_1918': 1910, \n",
    "    'bp_1919_1929': 1925, \n",
    "    'bp_1930_1939': 1935, \n",
    "    'bp_1945_1954': 1950,\n",
    "    'bp_1955_1964': 1960, \n",
    "    'bp_1965_1972': 1969, \n",
    "    'bp_1973_1982': 1978, \n",
    "    'bp_1983_1992': 1988,\n",
    "    'bp_1993_1999': 1996, \n",
    "    'bp_2000_2008': 2004, \n",
    "    'bp_2009': 2009, \n",
    "    'bp_2010': 2010, \n",
    "    'bp_2011': 2011,\n",
    "    'bp_2012': 2012, \n",
    "    'bp_2013': 2013, \n",
    "    'bp_2014': 2014, \n",
    "    'bp_2015': 2015, \n",
    "    'bp_2016': 2016, \n",
    "    'bp_2017': 2017,\n",
    "    'bp_2018': 2018,\n",
    "    'bp_2019': 2019,\n",
    "    'bp_2020': 2020,\n",
    "    'bp_2021': 2021,\n",
    "    'bp_2022_2023': 2021,\n",
    "    'bp_unkw': 1900 # assume if unknown then likely very old\n",
    "}\n",
    "\n",
    "buildings2[list(build_dates.keys())] = buildings2[build_dates.keys()].astype(int)\n",
    "build_year = buildings2[list(build_dates.keys())].mul(build_dates).sum(axis=1)\n",
    "totals = buildings2[list(build_dates.keys())].sum(axis=1)\n",
    "buildings2[\"home_age\"]  = [2021-(x / y) for x,y in zip(build_year,  totals)]\n",
    "buildings2 = buildings2[[\"ecode\", \"home_age\"]]\n",
    "buildings2.columns = [\"LSOA\", \"home_age\"]\n",
    "\n",
    "df = df.merge(buildings2, on=\"LSOA\", how=\"left\")"
   ]
  },
  {
   "cell_type": "code",
   "execution_count": 28,
   "id": "ddf30107-4485-4ad4-b85b-d0473f77a728",
   "metadata": {
    "tags": []
   },
   "outputs": [
    {
     "data": {
      "text/plain": [
       "(33811, 18)"
      ]
     },
     "execution_count": 28,
     "metadata": {},
     "output_type": "execute_result"
    }
   ],
   "source": [
    "df.shape"
   ]
  },
  {
   "cell_type": "code",
   "execution_count": 33,
   "id": "4614ebf6-2bc7-45b2-a245-187b223c9c7f",
   "metadata": {},
   "outputs": [],
   "source": [
    "# write clean file\n",
    "df.columns\n",
    "final_columns = ['LSOA', 'temperature','energy_cost', 'net_income', 'politically_green',\n",
    "       'pct_economically_active', 'home_size', 'pct_home_occupancy',\n",
    "       'home_exposed_surfaces', 'home_age', 'energy_consumption_per_person']\n",
    "df = df[final_columns]\n",
    "# df.to_csv(\"compiled_data.csv\")"
   ]
  },
  {
   "cell_type": "markdown",
   "id": "be0bbfd3-e40f-4c67-9a5f-621eb71eb042",
   "metadata": {},
   "source": [
    "## 2. Analysis and data viz"
   ]
  },
  {
   "cell_type": "code",
   "execution_count": 37,
   "id": "590daa38-2cb8-4bf7-ac55-f3365b8a51f1",
   "metadata": {},
   "outputs": [
    {
     "data": {
      "text/plain": [
       "(33811, 12)"
      ]
     },
     "execution_count": 37,
     "metadata": {},
     "output_type": "execute_result"
    }
   ],
   "source": [
    "df = pd.read_csv(\"compiled_data.csv\")\n",
    "df.shape"
   ]
  },
  {
   "cell_type": "code",
   "execution_count": 48,
   "id": "831ca856-e6df-46ce-a095-d0eccad2c8fb",
   "metadata": {
    "tags": []
   },
   "outputs": [],
   "source": [
    "# data cleaning\n",
    "df[\"politically_green\"] = [1 if x == True else 0 for x in df.politically_green]"
   ]
  },
  {
   "cell_type": "code",
   "execution_count": 50,
   "id": "945b2597-816d-49b9-ae37-dc7992b46d3c",
   "metadata": {
    "tags": []
   },
   "outputs": [
    {
     "data": {
      "text/html": [
       "<div>\n",
       "<style scoped>\n",
       "    .dataframe tbody tr th:only-of-type {\n",
       "        vertical-align: middle;\n",
       "    }\n",
       "\n",
       "    .dataframe tbody tr th {\n",
       "        vertical-align: top;\n",
       "    }\n",
       "\n",
       "    .dataframe thead th {\n",
       "        text-align: right;\n",
       "    }\n",
       "</style>\n",
       "<table border=\"1\" class=\"dataframe\">\n",
       "  <thead>\n",
       "    <tr style=\"text-align: right;\">\n",
       "      <th></th>\n",
       "      <th>Unnamed: 0</th>\n",
       "      <th>LSOA</th>\n",
       "      <th>temperature</th>\n",
       "      <th>energy_cost</th>\n",
       "      <th>net_income</th>\n",
       "      <th>politically_green</th>\n",
       "      <th>pct_economically_active</th>\n",
       "      <th>home_size</th>\n",
       "      <th>pct_home_occupancy</th>\n",
       "      <th>home_exposed_surfaces</th>\n",
       "      <th>home_age</th>\n",
       "      <th>energy_consumption_per_person</th>\n",
       "    </tr>\n",
       "  </thead>\n",
       "  <tbody>\n",
       "    <tr>\n",
       "      <th>0</th>\n",
       "      <td>0</td>\n",
       "      <td>E01000001</td>\n",
       "      <td>10.370246</td>\n",
       "      <td>17.175189</td>\n",
       "      <td>59,300</td>\n",
       "      <td>0</td>\n",
       "      <td>66.9</td>\n",
       "      <td>3.214797</td>\n",
       "      <td>0.634805</td>\n",
       "      <td>2.028571</td>\n",
       "      <td>51.650943</td>\n",
       "      <td>2972.915402</td>\n",
       "    </tr>\n",
       "    <tr>\n",
       "      <th>1</th>\n",
       "      <td>1</td>\n",
       "      <td>E01000002</td>\n",
       "      <td>10.370246</td>\n",
       "      <td>17.322861</td>\n",
       "      <td>59,300</td>\n",
       "      <td>0</td>\n",
       "      <td>66.9</td>\n",
       "      <td>2.980630</td>\n",
       "      <td>0.645178</td>\n",
       "      <td>2.043103</td>\n",
       "      <td>42.456897</td>\n",
       "      <td>3170.785545</td>\n",
       "    </tr>\n",
       "    <tr>\n",
       "      <th>2</th>\n",
       "      <td>2</td>\n",
       "      <td>E01000003</td>\n",
       "      <td>10.370246</td>\n",
       "      <td>9.818481</td>\n",
       "      <td>59,300</td>\n",
       "      <td>0</td>\n",
       "      <td>66.9</td>\n",
       "      <td>2.297350</td>\n",
       "      <td>0.749575</td>\n",
       "      <td>2.000000</td>\n",
       "      <td>54.831933</td>\n",
       "      <td>4136.987964</td>\n",
       "    </tr>\n",
       "    <tr>\n",
       "      <th>3</th>\n",
       "      <td>3</td>\n",
       "      <td>E01000005</td>\n",
       "      <td>10.370246</td>\n",
       "      <td>8.749321</td>\n",
       "      <td>59,300</td>\n",
       "      <td>0</td>\n",
       "      <td>66.9</td>\n",
       "      <td>2.794979</td>\n",
       "      <td>0.756450</td>\n",
       "      <td>2.000000</td>\n",
       "      <td>54.666667</td>\n",
       "      <td>2313.288368</td>\n",
       "    </tr>\n",
       "    <tr>\n",
       "      <th>4</th>\n",
       "      <td>4</td>\n",
       "      <td>E01000006</td>\n",
       "      <td>10.370246</td>\n",
       "      <td>7.328621</td>\n",
       "      <td>24,900</td>\n",
       "      <td>0</td>\n",
       "      <td>58.5</td>\n",
       "      <td>4.177738</td>\n",
       "      <td>0.748833</td>\n",
       "      <td>2.716981</td>\n",
       "      <td>76.981132</td>\n",
       "      <td>4170.256716</td>\n",
       "    </tr>\n",
       "    <tr>\n",
       "      <th>...</th>\n",
       "      <td>...</td>\n",
       "      <td>...</td>\n",
       "      <td>...</td>\n",
       "      <td>...</td>\n",
       "      <td>...</td>\n",
       "      <td>...</td>\n",
       "      <td>...</td>\n",
       "      <td>...</td>\n",
       "      <td>...</td>\n",
       "      <td>...</td>\n",
       "      <td>...</td>\n",
       "      <td>...</td>\n",
       "    </tr>\n",
       "    <tr>\n",
       "      <th>33806</th>\n",
       "      <td>33806</td>\n",
       "      <td>W01001954</td>\n",
       "      <td>10.370246</td>\n",
       "      <td>6.036200</td>\n",
       "      <td>36,900</td>\n",
       "      <td>0</td>\n",
       "      <td>54.1</td>\n",
       "      <td>4.929467</td>\n",
       "      <td>0.468783</td>\n",
       "      <td>3.910448</td>\n",
       "      <td>59.151515</td>\n",
       "      <td>10172.902850</td>\n",
       "    </tr>\n",
       "    <tr>\n",
       "      <th>33807</th>\n",
       "      <td>33807</td>\n",
       "      <td>W01001955</td>\n",
       "      <td>10.370246</td>\n",
       "      <td>8.728669</td>\n",
       "      <td>21,500</td>\n",
       "      <td>0</td>\n",
       "      <td>50.9</td>\n",
       "      <td>2.419380</td>\n",
       "      <td>0.591832</td>\n",
       "      <td>2.024390</td>\n",
       "      <td>36.795181</td>\n",
       "      <td>5644.966682</td>\n",
       "    </tr>\n",
       "    <tr>\n",
       "      <th>33808</th>\n",
       "      <td>33808</td>\n",
       "      <td>W01001956</td>\n",
       "      <td>10.370246</td>\n",
       "      <td>6.330159</td>\n",
       "      <td>31,200</td>\n",
       "      <td>0</td>\n",
       "      <td>50.9</td>\n",
       "      <td>4.534314</td>\n",
       "      <td>0.470200</td>\n",
       "      <td>3.704762</td>\n",
       "      <td>47.990476</td>\n",
       "      <td>6160.915439</td>\n",
       "    </tr>\n",
       "    <tr>\n",
       "      <th>33809</th>\n",
       "      <td>33809</td>\n",
       "      <td>W01001957</td>\n",
       "      <td>10.370246</td>\n",
       "      <td>7.149979</td>\n",
       "      <td>21,500</td>\n",
       "      <td>0</td>\n",
       "      <td>50.9</td>\n",
       "      <td>NaN</td>\n",
       "      <td>NaN</td>\n",
       "      <td>NaN</td>\n",
       "      <td>NaN</td>\n",
       "      <td>4722.112187</td>\n",
       "    </tr>\n",
       "    <tr>\n",
       "      <th>33810</th>\n",
       "      <td>33810</td>\n",
       "      <td>W01001958</td>\n",
       "      <td>10.370246</td>\n",
       "      <td>10.936372</td>\n",
       "      <td>21,500</td>\n",
       "      <td>0</td>\n",
       "      <td>50.9</td>\n",
       "      <td>3.119497</td>\n",
       "      <td>0.514864</td>\n",
       "      <td>2.157895</td>\n",
       "      <td>24.123711</td>\n",
       "      <td>4108.951553</td>\n",
       "    </tr>\n",
       "  </tbody>\n",
       "</table>\n",
       "<p>33811 rows × 12 columns</p>\n",
       "</div>"
      ],
      "text/plain": [
       "       Unnamed: 0       LSOA  temperature  energy_cost net_income  \\\n",
       "0               0  E01000001    10.370246    17.175189    59,300    \n",
       "1               1  E01000002    10.370246    17.322861    59,300    \n",
       "2               2  E01000003    10.370246     9.818481    59,300    \n",
       "3               3  E01000005    10.370246     8.749321    59,300    \n",
       "4               4  E01000006    10.370246     7.328621    24,900    \n",
       "...           ...        ...          ...          ...        ...   \n",
       "33806       33806  W01001954    10.370246     6.036200    36,900    \n",
       "33807       33807  W01001955    10.370246     8.728669    21,500    \n",
       "33808       33808  W01001956    10.370246     6.330159    31,200    \n",
       "33809       33809  W01001957    10.370246     7.149979    21,500    \n",
       "33810       33810  W01001958    10.370246    10.936372    21,500    \n",
       "\n",
       "       politically_green  pct_economically_active  home_size  \\\n",
       "0                      0                     66.9   3.214797   \n",
       "1                      0                     66.9   2.980630   \n",
       "2                      0                     66.9   2.297350   \n",
       "3                      0                     66.9   2.794979   \n",
       "4                      0                     58.5   4.177738   \n",
       "...                  ...                      ...        ...   \n",
       "33806                  0                     54.1   4.929467   \n",
       "33807                  0                     50.9   2.419380   \n",
       "33808                  0                     50.9   4.534314   \n",
       "33809                  0                     50.9        NaN   \n",
       "33810                  0                     50.9   3.119497   \n",
       "\n",
       "       pct_home_occupancy  home_exposed_surfaces   home_age  \\\n",
       "0                0.634805               2.028571  51.650943   \n",
       "1                0.645178               2.043103  42.456897   \n",
       "2                0.749575               2.000000  54.831933   \n",
       "3                0.756450               2.000000  54.666667   \n",
       "4                0.748833               2.716981  76.981132   \n",
       "...                   ...                    ...        ...   \n",
       "33806            0.468783               3.910448  59.151515   \n",
       "33807            0.591832               2.024390  36.795181   \n",
       "33808            0.470200               3.704762  47.990476   \n",
       "33809                 NaN                    NaN        NaN   \n",
       "33810            0.514864               2.157895  24.123711   \n",
       "\n",
       "       energy_consumption_per_person  \n",
       "0                        2972.915402  \n",
       "1                        3170.785545  \n",
       "2                        4136.987964  \n",
       "3                        2313.288368  \n",
       "4                        4170.256716  \n",
       "...                              ...  \n",
       "33806                   10172.902850  \n",
       "33807                    5644.966682  \n",
       "33808                    6160.915439  \n",
       "33809                    4722.112187  \n",
       "33810                    4108.951553  \n",
       "\n",
       "[33811 rows x 12 columns]"
      ]
     },
     "execution_count": 50,
     "metadata": {},
     "output_type": "execute_result"
    }
   ],
   "source": [
    "# plot energy_consumption_per_person on a map"
   ]
  },
  {
   "cell_type": "code",
   "execution_count": 38,
   "id": "47c11b01-9679-45a7-bbfd-309a95d9dda2",
   "metadata": {
    "tags": []
   },
   "outputs": [],
   "source": [
    "# plot map"
   ]
  },
  {
   "cell_type": "markdown",
   "id": "ba7944d0-e82c-4d30-bc11-78419c09378c",
   "metadata": {},
   "source": [
    "## 3. Modelling"
   ]
  },
  {
   "cell_type": "code",
   "execution_count": 40,
   "id": "320d898a-1387-4420-a4fc-82be6c2528c2",
   "metadata": {},
   "outputs": [],
   "source": [
    "# data preparation - cleaning"
   ]
  },
  {
   "cell_type": "code",
   "execution_count": 41,
   "id": "c7784d5c-228c-463d-9be6-0565b455ce45",
   "metadata": {
    "tags": []
   },
   "outputs": [],
   "source": [
    "# data preparation - normalisation"
   ]
  },
  {
   "cell_type": "code",
   "execution_count": 42,
   "id": "5e47ef49-69e4-4cc9-9061-f82277747452",
   "metadata": {
    "tags": []
   },
   "outputs": [],
   "source": [
    "# model"
   ]
  },
  {
   "cell_type": "code",
   "execution_count": 43,
   "id": "a18c3f49-602d-4655-8ab5-034c22e37a0b",
   "metadata": {
    "tags": []
   },
   "outputs": [],
   "source": [
    "# inference"
   ]
  },
  {
   "cell_type": "code",
   "execution_count": 44,
   "id": "1d8642ee-f8a9-438d-a099-51dd8c18a033",
   "metadata": {
    "tags": []
   },
   "outputs": [],
   "source": [
    "# results"
   ]
  }
 ],
 "metadata": {
  "kernelspec": {
   "display_name": "Python 3.11",
   "language": "python",
   "name": "py311"
  },
  "language_info": {
   "codemirror_mode": {
    "name": "ipython",
    "version": 3
   },
   "file_extension": ".py",
   "mimetype": "text/x-python",
   "name": "python",
   "nbconvert_exporter": "python",
   "pygments_lexer": "ipython3",
   "version": "3.11.9"
  }
 },
 "nbformat": 4,
 "nbformat_minor": 5
}
