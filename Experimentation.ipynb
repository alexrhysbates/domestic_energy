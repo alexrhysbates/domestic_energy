{
 "cells": [
  {
   "cell_type": "markdown",
   "id": "cbbdb99a-f7f8-4b0e-83aa-c67ad5edfab4",
   "metadata": {},
   "source": [
    "# Experimenting with possible approaches"
   ]
  },
  {
   "cell_type": "code",
   "execution_count": 22,
   "id": "1ffe27c8-e1a6-4ad6-99fe-bb0fec41edeb",
   "metadata": {
    "collapsed": true,
    "jupyter": {
     "outputs_hidden": true
    },
    "tags": []
   },
   "outputs": [
    {
     "name": "stdout",
     "output_type": "stream",
     "text": [
      "Requirement already satisfied: geopandas in /home/ubuntu/miniconda/envs/py311/lib/python3.11/site-packages (from -r requirements.txt (line 1)) (1.0.1)\n",
      "Requirement already satisfied: geopy in /home/ubuntu/miniconda/envs/py311/lib/python3.11/site-packages (from -r requirements.txt (line 2)) (2.4.1)\n",
      "Collecting libpysal (from -r requirements.txt (line 3))\n",
      "  Downloading libpysal-4.12.0-py3-none-any.whl.metadata (4.8 kB)\n",
      "Requirement already satisfied: netCDF4 in /home/ubuntu/miniconda/envs/py311/lib/python3.11/site-packages (from -r requirements.txt (line 4)) (1.7.1.post1)\n",
      "Requirement already satisfied: numpy in /home/ubuntu/miniconda/envs/py311/lib/python3.11/site-packages (from -r requirements.txt (line 5)) (1.26.4)\n",
      "Requirement already satisfied: pandas in /home/ubuntu/miniconda/envs/py311/lib/python3.11/site-packages (from -r requirements.txt (line 6)) (2.2.2)\n",
      "Requirement already satisfied: plotly in /home/ubuntu/miniconda/envs/py311/lib/python3.11/site-packages (from -r requirements.txt (line 7)) (5.22.0)\n",
      "Requirement already satisfied: pymc in /home/ubuntu/miniconda/envs/py311/lib/python3.11/site-packages (from -r requirements.txt (line 8)) (5.16.2)\n",
      "Requirement already satisfied: pyogrio>=0.7.2 in /home/ubuntu/miniconda/envs/py311/lib/python3.11/site-packages (from geopandas->-r requirements.txt (line 1)) (0.9.0)\n",
      "Requirement already satisfied: packaging in /home/ubuntu/miniconda/envs/py311/lib/python3.11/site-packages (from geopandas->-r requirements.txt (line 1)) (24.1)\n",
      "Requirement already satisfied: pyproj>=3.3.0 in /home/ubuntu/miniconda/envs/py311/lib/python3.11/site-packages (from geopandas->-r requirements.txt (line 1)) (3.6.1)\n",
      "Requirement already satisfied: shapely>=2.0.0 in /home/ubuntu/miniconda/envs/py311/lib/python3.11/site-packages (from geopandas->-r requirements.txt (line 1)) (2.0.5)\n",
      "Requirement already satisfied: geographiclib<3,>=1.52 in /home/ubuntu/miniconda/envs/py311/lib/python3.11/site-packages (from geopy->-r requirements.txt (line 2)) (2.0)\n",
      "Requirement already satisfied: beautifulsoup4>=4.10 in /home/ubuntu/miniconda/envs/py311/lib/python3.11/site-packages (from libpysal->-r requirements.txt (line 3)) (4.12.3)\n",
      "Requirement already satisfied: platformdirs>=2.0.2 in /home/ubuntu/miniconda/envs/py311/lib/python3.11/site-packages (from libpysal->-r requirements.txt (line 3)) (4.2.2)\n",
      "Requirement already satisfied: requests>=2.27 in /home/ubuntu/miniconda/envs/py311/lib/python3.11/site-packages (from libpysal->-r requirements.txt (line 3)) (2.32.3)\n",
      "Requirement already satisfied: scipy>=1.8 in /home/ubuntu/miniconda/envs/py311/lib/python3.11/site-packages (from libpysal->-r requirements.txt (line 3)) (1.13.1)\n",
      "Requirement already satisfied: scikit-learn>=1.1 in /home/ubuntu/miniconda/envs/py311/lib/python3.11/site-packages (from libpysal->-r requirements.txt (line 3)) (1.5.1)\n",
      "Requirement already satisfied: cftime in /home/ubuntu/miniconda/envs/py311/lib/python3.11/site-packages (from netCDF4->-r requirements.txt (line 4)) (1.6.4)\n",
      "Requirement already satisfied: certifi in /home/ubuntu/miniconda/envs/py311/lib/python3.11/site-packages (from netCDF4->-r requirements.txt (line 4)) (2024.7.4)\n",
      "Requirement already satisfied: python-dateutil>=2.8.2 in /home/ubuntu/miniconda/envs/py311/lib/python3.11/site-packages (from pandas->-r requirements.txt (line 6)) (2.9.0)\n",
      "Requirement already satisfied: pytz>=2020.1 in /home/ubuntu/miniconda/envs/py311/lib/python3.11/site-packages (from pandas->-r requirements.txt (line 6)) (2024.1)\n",
      "Requirement already satisfied: tzdata>=2022.7 in /home/ubuntu/miniconda/envs/py311/lib/python3.11/site-packages (from pandas->-r requirements.txt (line 6)) (2024.1)\n",
      "Requirement already satisfied: tenacity>=6.2.0 in /home/ubuntu/miniconda/envs/py311/lib/python3.11/site-packages (from plotly->-r requirements.txt (line 7)) (8.5.0)\n",
      "Requirement already satisfied: arviz>=0.13.0 in /home/ubuntu/miniconda/envs/py311/lib/python3.11/site-packages (from pymc->-r requirements.txt (line 8)) (0.19.0)\n",
      "Requirement already satisfied: cachetools>=4.2.1 in /home/ubuntu/miniconda/envs/py311/lib/python3.11/site-packages (from pymc->-r requirements.txt (line 8)) (5.3.3)\n",
      "Requirement already satisfied: cloudpickle in /home/ubuntu/miniconda/envs/py311/lib/python3.11/site-packages (from pymc->-r requirements.txt (line 8)) (3.0.0)\n",
      "Requirement already satisfied: pytensor<2.26,>=2.25.1 in /home/ubuntu/miniconda/envs/py311/lib/python3.11/site-packages (from pymc->-r requirements.txt (line 8)) (2.25.2)\n",
      "Requirement already satisfied: rich>=13.7.1 in /home/ubuntu/miniconda/envs/py311/lib/python3.11/site-packages (from pymc->-r requirements.txt (line 8)) (13.7.1)\n",
      "Requirement already satisfied: threadpoolctl<4.0.0,>=3.1.0 in /home/ubuntu/miniconda/envs/py311/lib/python3.11/site-packages (from pymc->-r requirements.txt (line 8)) (3.5.0)\n",
      "Requirement already satisfied: typing-extensions>=3.7.4 in /home/ubuntu/miniconda/envs/py311/lib/python3.11/site-packages (from pymc->-r requirements.txt (line 8)) (4.12.2)\n",
      "Requirement already satisfied: setuptools>=60.0.0 in /home/ubuntu/miniconda/envs/py311/lib/python3.11/site-packages (from arviz>=0.13.0->pymc->-r requirements.txt (line 8)) (70.1.1)\n",
      "Requirement already satisfied: matplotlib>=3.5 in /home/ubuntu/miniconda/envs/py311/lib/python3.11/site-packages (from arviz>=0.13.0->pymc->-r requirements.txt (line 8)) (3.8.4)\n",
      "Requirement already satisfied: dm-tree>=0.1.8 in /home/ubuntu/miniconda/envs/py311/lib/python3.11/site-packages (from arviz>=0.13.0->pymc->-r requirements.txt (line 8)) (0.1.8)\n",
      "Requirement already satisfied: xarray>=2022.6.0 in /home/ubuntu/miniconda/envs/py311/lib/python3.11/site-packages (from arviz>=0.13.0->pymc->-r requirements.txt (line 8)) (2024.6.0)\n",
      "Requirement already satisfied: h5netcdf>=1.0.2 in /home/ubuntu/miniconda/envs/py311/lib/python3.11/site-packages (from arviz>=0.13.0->pymc->-r requirements.txt (line 8)) (1.3.0)\n",
      "Requirement already satisfied: xarray-einstats>=0.3 in /home/ubuntu/miniconda/envs/py311/lib/python3.11/site-packages (from arviz>=0.13.0->pymc->-r requirements.txt (line 8)) (0.7.0)\n",
      "Requirement already satisfied: soupsieve>1.2 in /home/ubuntu/miniconda/envs/py311/lib/python3.11/site-packages (from beautifulsoup4>=4.10->libpysal->-r requirements.txt (line 3)) (2.5)\n",
      "Requirement already satisfied: filelock>=3.15 in /home/ubuntu/miniconda/envs/py311/lib/python3.11/site-packages (from pytensor<2.26,>=2.25.1->pymc->-r requirements.txt (line 8)) (3.15.4)\n",
      "Requirement already satisfied: etuples in /home/ubuntu/miniconda/envs/py311/lib/python3.11/site-packages (from pytensor<2.26,>=2.25.1->pymc->-r requirements.txt (line 8)) (0.3.9)\n",
      "Requirement already satisfied: logical-unification in /home/ubuntu/miniconda/envs/py311/lib/python3.11/site-packages (from pytensor<2.26,>=2.25.1->pymc->-r requirements.txt (line 8)) (0.4.6)\n",
      "Requirement already satisfied: miniKanren in /home/ubuntu/miniconda/envs/py311/lib/python3.11/site-packages (from pytensor<2.26,>=2.25.1->pymc->-r requirements.txt (line 8)) (1.0.3)\n",
      "Requirement already satisfied: cons in /home/ubuntu/miniconda/envs/py311/lib/python3.11/site-packages (from pytensor<2.26,>=2.25.1->pymc->-r requirements.txt (line 8)) (0.4.6)\n",
      "Requirement already satisfied: six>=1.5 in /home/ubuntu/miniconda/envs/py311/lib/python3.11/site-packages (from python-dateutil>=2.8.2->pandas->-r requirements.txt (line 6)) (1.16.0)\n",
      "Requirement already satisfied: charset-normalizer<4,>=2 in /home/ubuntu/miniconda/envs/py311/lib/python3.11/site-packages (from requests>=2.27->libpysal->-r requirements.txt (line 3)) (3.3.2)\n",
      "Requirement already satisfied: idna<4,>=2.5 in /home/ubuntu/miniconda/envs/py311/lib/python3.11/site-packages (from requests>=2.27->libpysal->-r requirements.txt (line 3)) (3.7)\n",
      "Requirement already satisfied: urllib3<3,>=1.21.1 in /home/ubuntu/miniconda/envs/py311/lib/python3.11/site-packages (from requests>=2.27->libpysal->-r requirements.txt (line 3)) (2.2.2)\n",
      "Requirement already satisfied: markdown-it-py>=2.2.0 in /home/ubuntu/miniconda/envs/py311/lib/python3.11/site-packages (from rich>=13.7.1->pymc->-r requirements.txt (line 8)) (3.0.0)\n",
      "Requirement already satisfied: pygments<3.0.0,>=2.13.0 in /home/ubuntu/miniconda/envs/py311/lib/python3.11/site-packages (from rich>=13.7.1->pymc->-r requirements.txt (line 8)) (2.18.0)\n",
      "Requirement already satisfied: joblib>=1.2.0 in /home/ubuntu/miniconda/envs/py311/lib/python3.11/site-packages (from scikit-learn>=1.1->libpysal->-r requirements.txt (line 3)) (1.4.2)\n",
      "Requirement already satisfied: h5py in /home/ubuntu/miniconda/envs/py311/lib/python3.11/site-packages (from h5netcdf>=1.0.2->arviz>=0.13.0->pymc->-r requirements.txt (line 8)) (3.11.0)\n",
      "Requirement already satisfied: mdurl~=0.1 in /home/ubuntu/miniconda/envs/py311/lib/python3.11/site-packages (from markdown-it-py>=2.2.0->rich>=13.7.1->pymc->-r requirements.txt (line 8)) (0.1.2)\n",
      "Requirement already satisfied: contourpy>=1.0.1 in /home/ubuntu/miniconda/envs/py311/lib/python3.11/site-packages (from matplotlib>=3.5->arviz>=0.13.0->pymc->-r requirements.txt (line 8)) (1.2.1)\n",
      "Requirement already satisfied: cycler>=0.10 in /home/ubuntu/miniconda/envs/py311/lib/python3.11/site-packages (from matplotlib>=3.5->arviz>=0.13.0->pymc->-r requirements.txt (line 8)) (0.12.1)\n",
      "Requirement already satisfied: fonttools>=4.22.0 in /home/ubuntu/miniconda/envs/py311/lib/python3.11/site-packages (from matplotlib>=3.5->arviz>=0.13.0->pymc->-r requirements.txt (line 8)) (4.53.1)\n",
      "Requirement already satisfied: kiwisolver>=1.3.1 in /home/ubuntu/miniconda/envs/py311/lib/python3.11/site-packages (from matplotlib>=3.5->arviz>=0.13.0->pymc->-r requirements.txt (line 8)) (1.4.5)\n",
      "Requirement already satisfied: pillow>=8 in /home/ubuntu/miniconda/envs/py311/lib/python3.11/site-packages (from matplotlib>=3.5->arviz>=0.13.0->pymc->-r requirements.txt (line 8)) (10.4.0)\n",
      "Requirement already satisfied: pyparsing>=2.3.1 in /home/ubuntu/miniconda/envs/py311/lib/python3.11/site-packages (from matplotlib>=3.5->arviz>=0.13.0->pymc->-r requirements.txt (line 8)) (3.1.2)\n",
      "Requirement already satisfied: toolz in /home/ubuntu/miniconda/envs/py311/lib/python3.11/site-packages (from logical-unification->pytensor<2.26,>=2.25.1->pymc->-r requirements.txt (line 8)) (0.12.1)\n",
      "Requirement already satisfied: multipledispatch in /home/ubuntu/miniconda/envs/py311/lib/python3.11/site-packages (from logical-unification->pytensor<2.26,>=2.25.1->pymc->-r requirements.txt (line 8)) (1.0.0)\n",
      "Downloading libpysal-4.12.0-py3-none-any.whl (2.8 MB)\n",
      "\u001b[2K   \u001b[90m━━━━━━━━━━━━━━━━━━━━━━━━━━━━━━━━━━━━━━━━\u001b[0m \u001b[32m2.8/2.8 MB\u001b[0m \u001b[31m58.7 MB/s\u001b[0m eta \u001b[36m0:00:00\u001b[0m00:01\u001b[0m\n",
      "\u001b[?25hInstalling collected packages: libpysal\n",
      "Successfully installed libpysal-4.12.0\n",
      "\u001b[33mWARNING: Running pip as the 'root' user can result in broken permissions and conflicting behaviour with the system package manager. It is recommended to use a virtual environment instead: https://pip.pypa.io/warnings/venv\u001b[0m\u001b[33m\n",
      "\u001b[0m"
     ]
    }
   ],
   "source": [
    "!pip install -r requirements.txt"
   ]
  },
  {
   "cell_type": "markdown",
   "id": "49f3b280-c5d9-4ca6-9a6e-803d16dfb772",
   "metadata": {},
   "source": [
    "## Imports"
   ]
  },
  {
   "cell_type": "code",
   "execution_count": 23,
   "id": "398e8cc8-d1fb-4ad0-adc4-89a89e9d3709",
   "metadata": {
    "tags": []
   },
   "outputs": [],
   "source": [
    "import numpy as np\n",
    "import pandas as pd\n",
    "import pymc as pm\n",
    "import geopy.distance\n",
    "import geopandas as gpd\n",
    "import matplotlib.pyplot as plt\n",
    "import libpysal as ps"
   ]
  },
  {
   "cell_type": "markdown",
   "id": "0c4829fa-3f28-4534-a2b5-40cbbe13a941",
   "metadata": {},
   "source": [
    "## 1. Data compilation"
   ]
  },
  {
   "cell_type": "code",
   "execution_count": null,
   "id": "fa1ae350-379a-4b8a-8096-4f04806a6d69",
   "metadata": {
    "tags": []
   },
   "outputs": [],
   "source": [
    "# assumptions\n",
    "# source - https://www.icaew.com/insights/viewpoints-on-the-news/2022/sept-2022/chart-of-the-week-energy-price-cap-update\n",
    "GAS_PRICE_PER_KWH = 3.3\n",
    "ELECTRIC_PRICE_PER_KWH = 19.0 "
   ]
  },
  {
   "cell_type": "code",
   "execution_count": null,
   "id": "2052d64a-2503-493b-857b-df8a13d1d40e",
   "metadata": {
    "tags": []
   },
   "outputs": [],
   "source": [
    "# look at the headline dataset of consumption by LSOA\n",
    "main_data = pd.read_csv(\"data/LSOA Energy Consumption Data.csv\")"
   ]
  },
  {
   "cell_type": "code",
   "execution_count": null,
   "id": "960c30fc-85e6-4c82-b61b-c71ac7916568",
   "metadata": {
    "tags": []
   },
   "outputs": [],
   "source": [
    "main_data.shape"
   ]
  },
  {
   "cell_type": "code",
   "execution_count": null,
   "id": "8eeb6bfc-85c9-4db4-9097-7fa73c548172",
   "metadata": {
    "tags": []
   },
   "outputs": [],
   "source": [
    "main_data['Lower Layer Super Output Area (LSOA) Code'].nunique()"
   ]
  },
  {
   "cell_type": "code",
   "execution_count": null,
   "id": "023fe03b-9409-4572-8eac-056c7bc69aef",
   "metadata": {
    "tags": []
   },
   "outputs": [],
   "source": [
    "# Library to work with netCDF files\n",
    "from netCDF4 import Dataset\n",
    "\n",
    "file_name = \"data/tas_hadukgrid_uk_60km_ann_202101-202112.nc\"\n",
    "file_id = Dataset(file_name)\n",
    "\n",
    "latitude = file_id.variables[\"latitude\"][:,:]\n",
    "longitude = file_id.variables[\"longitude\"][:,:]\n",
    "temps = file_id.variables[\"tas\"][:,:]\n",
    "\n",
    "lats = [np.mean(x) for x in latitude]\n",
    "longs = [np.mean(x) for x in longitude] \n",
    "ts = [np.mean(x) for x in temps[0]]\n",
    "temp_data = pd.DataFrame({\"latitude\": lats,\n",
    "                          \"longitude\": longs,\n",
    "                          \"temperature\": ts}\n",
    "                        )\n",
    "\n",
    "temp_data = temp_data[temp_data.temperature > 0]"
   ]
  },
  {
   "cell_type": "markdown",
   "id": "28054fd7-020e-48ac-ab74-fe480b78a750",
   "metadata": {},
   "source": [
    "### Combining and generating features"
   ]
  },
  {
   "cell_type": "code",
   "execution_count": null,
   "id": "30d30fee-8cff-4dae-bcbb-6c67f93b0e08",
   "metadata": {
    "tags": []
   },
   "outputs": [],
   "source": [
    "# feature generation\n",
    "main_data[\"pct_electric\"] = main_data['Electricity Consumption (kWh)'] / main_data['Total Energy Consumption (kWh)']\n",
    "main_data[\"coords\"] = [(lat, long) for lat, long in zip(main_data.Latitude, main_data.Longitude)]\n",
    "\n",
    "df = main_data[['Local Authority Name', 'Local Authority Code', 'MSOA Name',\n",
    "       'Middle Layer Super Output Area (MSOA) Code', 'LSOA Name',\n",
    "       'Lower Layer Super Output Area (LSOA) Code', 'coords',\n",
    "       'pct_electric', 'Average Energy Consumption per Person (kWh)']]\n",
    "\n",
    "df.columns = ['LA_name', 'LA', 'MSOA_ame',\n",
    "       'MSOA', 'LSOA_name',\n",
    "       'LSOA', 'coords',\n",
    "       'pct_electric', 'energy_consumption_per_person']"
   ]
  },
  {
   "cell_type": "code",
   "execution_count": null,
   "id": "960d6b07-a880-4dd7-a866-787bd860bc2f",
   "metadata": {
    "tags": []
   },
   "outputs": [],
   "source": [
    "list(zip(lats, longs))"
   ]
  },
  {
   "cell_type": "code",
   "execution_count": null,
   "id": "fb9bfea2-b1b4-4698-830e-890a594e7bcc",
   "metadata": {
    "tags": []
   },
   "outputs": [],
   "source": [
    "# add temperature data\n",
    "coords =  [(lat, long) for lat, long in zip(temp_data.latitude, temp_data.longitude)]\n",
    "temp_dict = {co:t for co,t in zip(coords, temp_data.temperature)}\n",
    "\n",
    "def find_closest_temp_measurement(this_point):\n",
    "    return temp_dict[min(temp_dict.keys(), key=lambda x: geopy.distance.geodesic(this_point, x))]\n",
    "\n",
    "df[\"temperature\"] = [find_closest_temp_measurement(x) for x in df.coords]"
   ]
  },
  {
   "cell_type": "code",
   "execution_count": null,
   "id": "698bd114-cd21-43fe-8f4d-9bdc8679b242",
   "metadata": {
    "tags": []
   },
   "outputs": [],
   "source": [
    "# compute energy cost\n",
    "df[\"energy_cost\"] = [ELECTRIC_PRICE_PER_KWH * x + GAS_PRICE_PER_KWH * (1-x) for x in df[\"pct_electric\"]]"
   ]
  },
  {
   "cell_type": "code",
   "execution_count": null,
   "id": "93287366-4e67-4489-ad68-5f20c9358116",
   "metadata": {
    "tags": []
   },
   "outputs": [],
   "source": [
    "# add income data\n",
    "income_data = pd.read_csv(\"data/net_income_after_housing_costs.csv\")\n",
    "income_data = income_data[[\"MSOA code\", \"Net annual income after housing costs (£)\"]].copy()\n",
    "income_data.columns = [\"MSOA\", \"net_income\"]\n",
    "df = df.merge(income_data, on=\"MSOA\", how=\"left\")"
   ]
  },
  {
   "cell_type": "code",
   "execution_count": null,
   "id": "2f26a110-557a-4fba-9041-53494c115802",
   "metadata": {
    "tags": []
   },
   "outputs": [],
   "source": [
    "income_data"
   ]
  },
  {
   "cell_type": "code",
   "execution_count": null,
   "id": "be831c72-c509-429b-8831-2e5cc90b83f0",
   "metadata": {
    "tags": []
   },
   "outputs": [],
   "source": [
    "df.shape"
   ]
  },
  {
   "cell_type": "code",
   "execution_count": null,
   "id": "bfcfc340-894f-4ebe-9e03-9dd4b3e8f1d0",
   "metadata": {
    "tags": []
   },
   "outputs": [],
   "source": [
    "# add green data\n",
    "voting_data = pd.read_csv(\"data/CBP09228_detailed_results_England_elections.csv\")\n",
    "voting_data[\"pct_green\"] = voting_data[\"Green\"] / voting_data[\"Total\"]\n",
    "voting_data[\"green_council\"] = voting_data[\"pct_green\"] >= 0.1\n",
    "voting_data = voting_data[[\"ONS code\", \"green_council\"]].copy()\n",
    "voting_data.columns = [\"LA\", \"politically_green\"]\n",
    "df = df.merge(voting_data, on=\"LA\", how=\"left\")"
   ]
  },
  {
   "cell_type": "code",
   "execution_count": null,
   "id": "2e8f6eef-57a3-481a-808c-b7c52addc7e5",
   "metadata": {
    "tags": []
   },
   "outputs": [],
   "source": [
    "df.shape"
   ]
  },
  {
   "cell_type": "code",
   "execution_count": null,
   "id": "d0efa005-edf0-4647-a5c5-31f2bc1ca956",
   "metadata": {
    "tags": []
   },
   "outputs": [],
   "source": [
    "# add employment status\n",
    "economic_activity = pd.read_csv(\"data/economic_activity.csv\")\n",
    "economic_activity = economic_activity[[\"Area code\", \"Economically active: \\nIn employment \\n(including full-time students), \\n2021\\n(percent)\"]]\n",
    "economic_activity.columns = [\"LA\", \"pct_economically_active\"]\n",
    "df = df.merge(economic_activity, on=\"LA\", how=\"left\")"
   ]
  },
  {
   "cell_type": "code",
   "execution_count": null,
   "id": "7c582d6c-8ed4-4875-8e45-2cdb1a3a19ae",
   "metadata": {
    "tags": []
   },
   "outputs": [],
   "source": [
    "df.shape"
   ]
  },
  {
   "cell_type": "code",
   "execution_count": null,
   "id": "658c4dbd-0f3e-4401-aaf7-2dca0a7edcbc",
   "metadata": {
    "tags": []
   },
   "outputs": [],
   "source": [
    "# add in home occupancy data\n",
    "households = pd.read_csv(\"data/RM202-Household-Size-By-Number-Of-Rooms-2021-lsoa-ONS.csv\")\n",
    "households.rename(columns={\"Lower layer Super Output Areas Code\": \"LSOA\"}, inplace=True)\n",
    "households[\"pct_home_occupancy\"] = households[\"Household size (5 categories) Code\"] / households[\"Number of rooms (Valuation Office Agency) (6 categories) Code\"]\n",
    "households[\"pct_home_occupancy_x_obs\"] = households[\"pct_home_occupancy\"] * households[\"Observation\"]\n",
    "households[\"home_size_x_obs\"] = households[\"Number of rooms (Valuation Office Agency) (6 categories) Code\"] * households[\"Observation\"]\n",
    "totals = households.groupby(\"LSOA\")[[\"pct_home_occupancy_x_obs\", \"home_size_x_obs\", \"Observation\"]].sum().reset_index()\n",
    "totals[\"home_size\"] = totals[\"home_size_x_obs\"] / totals[\"Observation\"]\n",
    "totals[\"pct_home_occupancy\"] = totals[\"pct_home_occupancy_x_obs\"] / totals[\"Observation\"]\n",
    "totals = totals[[\"LSOA\", \"home_size\", \"pct_home_occupancy\"]]\n",
    "df = df.merge(totals, on=\"LSOA\", how=\"left\")"
   ]
  },
  {
   "cell_type": "code",
   "execution_count": null,
   "id": "ad11c882-2e5a-4321-8f67-f07e71821732",
   "metadata": {
    "tags": []
   },
   "outputs": [],
   "source": [
    "df.shape"
   ]
  },
  {
   "cell_type": "code",
   "execution_count": null,
   "id": "f69f1777-9fcc-4a4a-a3ea-b0a8383c46b4",
   "metadata": {
    "tags": []
   },
   "outputs": [],
   "source": [
    "# add in building type - go for pct detatched\n",
    "buildings1 = pd.read_csv(\"data/CTSOP_3_1_2021.csv\")\n",
    "buildings1 = buildings1[(buildings1.geography == \"LSOA\") & (buildings1.band == \"All\")]\n",
    "buildings1 = buildings1[[\"ecode\", \"bungalow_total\", \"flat_mais_total\", \"house_terraced_total\",\n",
    "                         \"house_semi_total\", \"house_detached_total\", \"all_properties\"]]\n",
    "buildings1 = buildings1.replace(\"-\",\"0\")\n",
    "\n",
    "# num exposed surfaces\n",
    "exposed_surfaces_per_type = {\n",
    "    \"bungalow_total\": 5,\n",
    "    \"flat_mais_total\": 2,\n",
    "    \"house_terraced_total\": 3,\n",
    "    \"house_semi_total\": 4,\n",
    "    \"house_detached_total\": 5\n",
    "}\n",
    "\n",
    "buildings1[list(exposed_surfaces_per_type.keys())] = buildings1[exposed_surfaces_per_type.keys()].astype(int)\n",
    "total_exposed_surfaces = buildings1[list(exposed_surfaces_per_type.keys())].mul(exposed_surfaces_per_type).sum(axis=1)\n",
    "buildings1[\"home_exposed_surfaces\"]  = [x / int(y) for x,y in zip(total_exposed_surfaces,  buildings1[\"all_properties\"])]\n",
    "buildings1 = buildings1[[\"ecode\", \"home_exposed_surfaces\"]]\n",
    "buildings1.columns = [\"LSOA\", \"home_exposed_surfaces\"]\n",
    "\n",
    "df = df.merge(buildings1, on=\"LSOA\", how=\"left\")"
   ]
  },
  {
   "cell_type": "code",
   "execution_count": null,
   "id": "a65692b9-f732-4cc7-a207-3aff596c26dd",
   "metadata": {
    "tags": []
   },
   "outputs": [],
   "source": [
    "df.shape"
   ]
  },
  {
   "cell_type": "code",
   "execution_count": null,
   "id": "ae7519ca-25ec-46e8-b5c1-cc0e9aa5f4e5",
   "metadata": {
    "tags": []
   },
   "outputs": [],
   "source": [
    "# add in building age\n",
    "buildings2 = pd.read_csv(\"data/CTSOP_4_1_2021.csv\")\n",
    "buildings2 = buildings2[(buildings2.geography == \"LSOA\") & (buildings2.band == \"All\")]\n",
    "buildings2 = buildings2.replace(\"-\",\"0\")\n",
    "\n",
    "build_dates = {\n",
    "    'bp_pre_1900': 1900,\n",
    "    'bp_1900_1918': 1910, \n",
    "    'bp_1919_1929': 1925, \n",
    "    'bp_1930_1939': 1935, \n",
    "    'bp_1945_1954': 1950,\n",
    "    'bp_1955_1964': 1960, \n",
    "    'bp_1965_1972': 1969, \n",
    "    'bp_1973_1982': 1978, \n",
    "    'bp_1983_1992': 1988,\n",
    "    'bp_1993_1999': 1996, \n",
    "    'bp_2000_2008': 2004, \n",
    "    'bp_2009': 2009, \n",
    "    'bp_2010': 2010, \n",
    "    'bp_2011': 2011,\n",
    "    'bp_2012': 2012, \n",
    "    'bp_2013': 2013, \n",
    "    'bp_2014': 2014, \n",
    "    'bp_2015': 2015, \n",
    "    'bp_2016': 2016, \n",
    "    'bp_2017': 2017,\n",
    "    'bp_2018': 2018,\n",
    "    'bp_2019': 2019,\n",
    "    'bp_2020': 2020,\n",
    "    'bp_2021': 2021,\n",
    "    'bp_2022_2023': 2021,\n",
    "    'bp_unkw': 1900 # assume if unknown then likely very old\n",
    "}\n",
    "\n",
    "buildings2[list(build_dates.keys())] = buildings2[build_dates.keys()].astype(int)\n",
    "build_year = buildings2[list(build_dates.keys())].mul(build_dates).sum(axis=1)\n",
    "totals = buildings2[list(build_dates.keys())].sum(axis=1)\n",
    "buildings2[\"home_age\"]  = [2021-(x / y) for x,y in zip(build_year,  totals)]\n",
    "buildings2 = buildings2[[\"ecode\", \"home_age\"]]\n",
    "buildings2.columns = [\"LSOA\", \"home_age\"]\n",
    "\n",
    "df = df.merge(buildings2, on=\"LSOA\", how=\"left\")"
   ]
  },
  {
   "cell_type": "code",
   "execution_count": null,
   "id": "ddf30107-4485-4ad4-b85b-d0473f77a728",
   "metadata": {
    "tags": []
   },
   "outputs": [],
   "source": [
    "df.shape"
   ]
  },
  {
   "cell_type": "code",
   "execution_count": null,
   "id": "4614ebf6-2bc7-45b2-a245-187b223c9c7f",
   "metadata": {},
   "outputs": [],
   "source": [
    "# write clean file\n",
    "df.columns\n",
    "final_columns = ['LSOA', 'temperature','energy_cost', 'net_income', 'politically_green',\n",
    "       'pct_economically_active', 'home_size', 'pct_home_occupancy',\n",
    "       'home_exposed_surfaces', 'home_age', 'energy_consumption_per_person']\n",
    "df = df[final_columns]\n",
    "# df.to_csv(\"compiled_data.csv\")"
   ]
  },
  {
   "cell_type": "markdown",
   "id": "be0bbfd3-e40f-4c67-9a5f-621eb71eb042",
   "metadata": {},
   "source": [
    "## 2. Analysis and data viz"
   ]
  },
  {
   "cell_type": "code",
   "execution_count": 6,
   "id": "590daa38-2cb8-4bf7-ac55-f3365b8a51f1",
   "metadata": {},
   "outputs": [
    {
     "data": {
      "text/plain": [
       "(33811, 13)"
      ]
     },
     "execution_count": 6,
     "metadata": {},
     "output_type": "execute_result"
    }
   ],
   "source": [
    "df = pd.read_csv(\"compiled_data.csv\")\n",
    "df.shape"
   ]
  },
  {
   "cell_type": "code",
   "execution_count": 7,
   "id": "831ca856-e6df-46ce-a095-d0eccad2c8fb",
   "metadata": {
    "tags": []
   },
   "outputs": [],
   "source": [
    "# data cleaning\n",
    "df[\"politically_green\"] = [1 if x == True else 0 for x in df.politically_green]"
   ]
  },
  {
   "cell_type": "code",
   "execution_count": 36,
   "id": "38ff2170-3247-455a-8437-323847b3ad43",
   "metadata": {
    "tags": []
   },
   "outputs": [],
   "source": [
    "# plot map\n",
    "las = gpd.GeoDataFrame.from_file(\"data/LAD_DEC_2021_UK_BFC.shp\")\n",
    "las.rename(columns={\"LAD21CD\":\"LA\"}, inplace=True)\n",
    "df_energy = df.groupby(\"LA\")[\"energy_consumption_per_person\"].mean().reset_index()\n",
    "las = las.merge(df_energy, on=\"LA\", how=\"left\")"
   ]
  },
  {
   "cell_type": "code",
   "execution_count": 37,
   "id": "06914e00-9ba3-48e7-b633-416861761bcb",
   "metadata": {
    "tags": []
   },
   "outputs": [
    {
     "data": {
      "text/html": [
       "<div>\n",
       "<style scoped>\n",
       "    .dataframe tbody tr th:only-of-type {\n",
       "        vertical-align: middle;\n",
       "    }\n",
       "\n",
       "    .dataframe tbody tr th {\n",
       "        vertical-align: top;\n",
       "    }\n",
       "\n",
       "    .dataframe thead th {\n",
       "        text-align: right;\n",
       "    }\n",
       "</style>\n",
       "<table border=\"1\" class=\"dataframe\">\n",
       "  <thead>\n",
       "    <tr style=\"text-align: right;\">\n",
       "      <th></th>\n",
       "      <th>LA</th>\n",
       "      <th>LAD21NM</th>\n",
       "      <th>BNG_E</th>\n",
       "      <th>BNG_N</th>\n",
       "      <th>LONG</th>\n",
       "      <th>LAT</th>\n",
       "      <th>GlobalID</th>\n",
       "      <th>geometry</th>\n",
       "      <th>energy_consumption_per_person</th>\n",
       "    </tr>\n",
       "  </thead>\n",
       "  <tbody>\n",
       "    <tr>\n",
       "      <th>0</th>\n",
       "      <td>E06000001</td>\n",
       "      <td>Hartlepool</td>\n",
       "      <td>447160</td>\n",
       "      <td>531474</td>\n",
       "      <td>-1.27018</td>\n",
       "      <td>54.6761</td>\n",
       "      <td>ca7f3a60-3c61-4e35-9294-bb4bf30aa27e</td>\n",
       "      <td>MULTIPOLYGON (((450154.599 525938.201, 450140....</td>\n",
       "      <td>7204.567376</td>\n",
       "    </tr>\n",
       "    <tr>\n",
       "      <th>1</th>\n",
       "      <td>E06000002</td>\n",
       "      <td>Middlesbrough</td>\n",
       "      <td>451141</td>\n",
       "      <td>516887</td>\n",
       "      <td>-1.21099</td>\n",
       "      <td>54.5447</td>\n",
       "      <td>e05c5c16-f8ff-4e8e-a972-8b2821f4256a</td>\n",
       "      <td>MULTIPOLYGON (((446854.7 517192.7, 446854.281 ...</td>\n",
       "      <td>6906.235661</td>\n",
       "    </tr>\n",
       "    <tr>\n",
       "      <th>2</th>\n",
       "      <td>E06000003</td>\n",
       "      <td>Redcar and Cleveland</td>\n",
       "      <td>464361</td>\n",
       "      <td>519597</td>\n",
       "      <td>-1.00608</td>\n",
       "      <td>54.5675</td>\n",
       "      <td>9946aa82-eadc-40ce-bc31-966c7f64227f</td>\n",
       "      <td>MULTIPOLYGON (((451747.397 520561.1, 451792.20...</td>\n",
       "      <td>7136.487751</td>\n",
       "    </tr>\n",
       "    <tr>\n",
       "      <th>3</th>\n",
       "      <td>E06000004</td>\n",
       "      <td>Stockton-on-Tees</td>\n",
       "      <td>444940</td>\n",
       "      <td>518183</td>\n",
       "      <td>-1.30664</td>\n",
       "      <td>54.5569</td>\n",
       "      <td>a7b036a9-1a06-4206-956c-5519c3a8dd66</td>\n",
       "      <td>MULTIPOLYGON (((447177.704 517811.797, 447176....</td>\n",
       "      <td>7101.935820</td>\n",
       "    </tr>\n",
       "    <tr>\n",
       "      <th>4</th>\n",
       "      <td>E06000005</td>\n",
       "      <td>Darlington</td>\n",
       "      <td>428029</td>\n",
       "      <td>515648</td>\n",
       "      <td>-1.56835</td>\n",
       "      <td>54.5353</td>\n",
       "      <td>89ab5e88-63b6-4f7b-b8dc-7618eee2867b</td>\n",
       "      <td>POLYGON ((423496.602 524724.299, 423497.204 52...</td>\n",
       "      <td>7640.931522</td>\n",
       "    </tr>\n",
       "    <tr>\n",
       "      <th>...</th>\n",
       "      <td>...</td>\n",
       "      <td>...</td>\n",
       "      <td>...</td>\n",
       "      <td>...</td>\n",
       "      <td>...</td>\n",
       "      <td>...</td>\n",
       "      <td>...</td>\n",
       "      <td>...</td>\n",
       "      <td>...</td>\n",
       "    </tr>\n",
       "    <tr>\n",
       "      <th>369</th>\n",
       "      <td>W06000020</td>\n",
       "      <td>Torfaen</td>\n",
       "      <td>327459</td>\n",
       "      <td>200480</td>\n",
       "      <td>-3.05101</td>\n",
       "      <td>51.6984</td>\n",
       "      <td>ed5461b6-cdb4-46b1-8049-0e9216b9d00f</td>\n",
       "      <td>POLYGON ((323898.201 211287.499, 324115.698 21...</td>\n",
       "      <td>6729.757660</td>\n",
       "    </tr>\n",
       "    <tr>\n",
       "      <th>370</th>\n",
       "      <td>W06000021</td>\n",
       "      <td>Monmouthshire</td>\n",
       "      <td>337812</td>\n",
       "      <td>209231</td>\n",
       "      <td>-2.90280</td>\n",
       "      <td>51.7783</td>\n",
       "      <td>a7feffe9-3fac-401c-b162-f853252c26f8</td>\n",
       "      <td>MULTIPOLYGON (((345897.698 180999.599, 345884....</td>\n",
       "      <td>6539.809934</td>\n",
       "    </tr>\n",
       "    <tr>\n",
       "      <th>371</th>\n",
       "      <td>W06000022</td>\n",
       "      <td>Newport</td>\n",
       "      <td>337897</td>\n",
       "      <td>187432</td>\n",
       "      <td>-2.89769</td>\n",
       "      <td>51.5823</td>\n",
       "      <td>b457647a-1151-426a-be0b-57d4ed9d1687</td>\n",
       "      <td>MULTIPOLYGON (((334186.001 192669.398, 334201....</td>\n",
       "      <td>6562.066450</td>\n",
       "    </tr>\n",
       "    <tr>\n",
       "      <th>372</th>\n",
       "      <td>W06000023</td>\n",
       "      <td>Powys</td>\n",
       "      <td>302329</td>\n",
       "      <td>273255</td>\n",
       "      <td>-3.43531</td>\n",
       "      <td>52.3486</td>\n",
       "      <td>90ff5771-3f0e-4095-96d1-e5263096c992</td>\n",
       "      <td>MULTIPOLYGON (((270499 297829.35, 270658 29772...</td>\n",
       "      <td>5407.210594</td>\n",
       "    </tr>\n",
       "    <tr>\n",
       "      <th>373</th>\n",
       "      <td>W06000024</td>\n",
       "      <td>Merthyr Tydfil</td>\n",
       "      <td>305916</td>\n",
       "      <td>206424</td>\n",
       "      <td>-3.36425</td>\n",
       "      <td>51.7486</td>\n",
       "      <td>7a088b59-ae24-488e-8832-e0bf910e9b8f</td>\n",
       "      <td>POLYGON ((303435.502 214925.598, 303431.602 21...</td>\n",
       "      <td>7566.426331</td>\n",
       "    </tr>\n",
       "  </tbody>\n",
       "</table>\n",
       "<p>374 rows × 9 columns</p>\n",
       "</div>"
      ],
      "text/plain": [
       "            LA               LAD21NM   BNG_E   BNG_N     LONG      LAT  \\\n",
       "0    E06000001            Hartlepool  447160  531474 -1.27018  54.6761   \n",
       "1    E06000002         Middlesbrough  451141  516887 -1.21099  54.5447   \n",
       "2    E06000003  Redcar and Cleveland  464361  519597 -1.00608  54.5675   \n",
       "3    E06000004      Stockton-on-Tees  444940  518183 -1.30664  54.5569   \n",
       "4    E06000005            Darlington  428029  515648 -1.56835  54.5353   \n",
       "..         ...                   ...     ...     ...      ...      ...   \n",
       "369  W06000020               Torfaen  327459  200480 -3.05101  51.6984   \n",
       "370  W06000021         Monmouthshire  337812  209231 -2.90280  51.7783   \n",
       "371  W06000022               Newport  337897  187432 -2.89769  51.5823   \n",
       "372  W06000023                 Powys  302329  273255 -3.43531  52.3486   \n",
       "373  W06000024        Merthyr Tydfil  305916  206424 -3.36425  51.7486   \n",
       "\n",
       "                                 GlobalID  \\\n",
       "0    ca7f3a60-3c61-4e35-9294-bb4bf30aa27e   \n",
       "1    e05c5c16-f8ff-4e8e-a972-8b2821f4256a   \n",
       "2    9946aa82-eadc-40ce-bc31-966c7f64227f   \n",
       "3    a7b036a9-1a06-4206-956c-5519c3a8dd66   \n",
       "4    89ab5e88-63b6-4f7b-b8dc-7618eee2867b   \n",
       "..                                    ...   \n",
       "369  ed5461b6-cdb4-46b1-8049-0e9216b9d00f   \n",
       "370  a7feffe9-3fac-401c-b162-f853252c26f8   \n",
       "371  b457647a-1151-426a-be0b-57d4ed9d1687   \n",
       "372  90ff5771-3f0e-4095-96d1-e5263096c992   \n",
       "373  7a088b59-ae24-488e-8832-e0bf910e9b8f   \n",
       "\n",
       "                                              geometry  \\\n",
       "0    MULTIPOLYGON (((450154.599 525938.201, 450140....   \n",
       "1    MULTIPOLYGON (((446854.7 517192.7, 446854.281 ...   \n",
       "2    MULTIPOLYGON (((451747.397 520561.1, 451792.20...   \n",
       "3    MULTIPOLYGON (((447177.704 517811.797, 447176....   \n",
       "4    POLYGON ((423496.602 524724.299, 423497.204 52...   \n",
       "..                                                 ...   \n",
       "369  POLYGON ((323898.201 211287.499, 324115.698 21...   \n",
       "370  MULTIPOLYGON (((345897.698 180999.599, 345884....   \n",
       "371  MULTIPOLYGON (((334186.001 192669.398, 334201....   \n",
       "372  MULTIPOLYGON (((270499 297829.35, 270658 29772...   \n",
       "373  POLYGON ((303435.502 214925.598, 303431.602 21...   \n",
       "\n",
       "     energy_consumption_per_person  \n",
       "0                      7204.567376  \n",
       "1                      6906.235661  \n",
       "2                      7136.487751  \n",
       "3                      7101.935820  \n",
       "4                      7640.931522  \n",
       "..                             ...  \n",
       "369                    6729.757660  \n",
       "370                    6539.809934  \n",
       "371                    6562.066450  \n",
       "372                    5407.210594  \n",
       "373                    7566.426331  \n",
       "\n",
       "[374 rows x 9 columns]"
      ]
     },
     "execution_count": 37,
     "metadata": {},
     "output_type": "execute_result"
    }
   ],
   "source": [
    "las.energy_consumption_per_person.value_counts(dropna=F"
   ]
  },
  {
   "cell_type": "code",
   "execution_count": null,
   "id": "2fc74910-6bbe-4949-93b9-c4058e160ee6",
   "metadata": {},
   "outputs": [],
   "source": [
    "las.plot(column=\"energy_consumption_per_person\", cmap=\"OrRd\", edgecolor=\"k\", legend=True)"
   ]
  },
  {
   "cell_type": "markdown",
   "id": "ba7944d0-e82c-4d30-bc11-78419c09378c",
   "metadata": {},
   "source": [
    "## 3. Modelling"
   ]
  },
  {
   "cell_type": "code",
   "execution_count": null,
   "id": "320d898a-1387-4420-a4fc-82be6c2528c2",
   "metadata": {},
   "outputs": [],
   "source": [
    "# data preparation - cleaning"
   ]
  },
  {
   "cell_type": "code",
   "execution_count": null,
   "id": "c7784d5c-228c-463d-9be6-0565b455ce45",
   "metadata": {
    "tags": []
   },
   "outputs": [],
   "source": [
    "# data preparation - normalisation"
   ]
  },
  {
   "cell_type": "code",
   "execution_count": null,
   "id": "5e47ef49-69e4-4cc9-9061-f82277747452",
   "metadata": {
    "tags": []
   },
   "outputs": [],
   "source": [
    "# model"
   ]
  },
  {
   "cell_type": "code",
   "execution_count": null,
   "id": "a18c3f49-602d-4655-8ab5-034c22e37a0b",
   "metadata": {
    "tags": []
   },
   "outputs": [],
   "source": [
    "# inference"
   ]
  },
  {
   "cell_type": "code",
   "execution_count": null,
   "id": "1d8642ee-f8a9-438d-a099-51dd8c18a033",
   "metadata": {
    "tags": []
   },
   "outputs": [],
   "source": [
    "# results"
   ]
  }
 ],
 "metadata": {
  "kernelspec": {
   "display_name": "Python 3.11",
   "language": "python",
   "name": "py311"
  },
  "language_info": {
   "codemirror_mode": {
    "name": "ipython",
    "version": 3
   },
   "file_extension": ".py",
   "mimetype": "text/x-python",
   "name": "python",
   "nbconvert_exporter": "python",
   "pygments_lexer": "ipython3",
   "version": "3.11.9"
  }
 },
 "nbformat": 4,
 "nbformat_minor": 5
}
